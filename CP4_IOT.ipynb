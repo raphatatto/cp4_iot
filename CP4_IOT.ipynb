{
  "nbformat": 4,
  "nbformat_minor": 0,
  "metadata": {
    "colab": {
      "provenance": [],
      "include_colab_link": true
    },
    "kernelspec": {
      "name": "python3",
      "display_name": "Python 3"
    },
    "language_info": {
      "name": "python"
    }
  },
  "cells": [
    {
      "cell_type": "markdown",
      "metadata": {
        "id": "view-in-github",
        "colab_type": "text"
      },
      "source": [
        "<a href=\"https://colab.research.google.com/github/raphatatto/cp4_iot/blob/main/CP4_IOT.ipynb\" target=\"_parent\"><img src=\"https://colab.research.google.com/assets/colab-badge.svg\" alt=\"Open In Colab\"/></a>"
      ]
    },
    {
      "cell_type": "markdown",
      "source": [
        "# **CP 1 – Data Science e Machine Learning no Python e Orange Data Mining**"
      ],
      "metadata": {
        "id": "nDE6W-U-1E2_"
      }
    },
    {
      "cell_type": "markdown",
      "source": [
        "## **IMPORTANDO BIBLIOTECAS**"
      ],
      "metadata": {
        "id": "KMDoTvEc0lR8"
      }
    },
    {
      "cell_type": "code",
      "execution_count": 17,
      "metadata": {
        "id": "AUkEZ9hA0WmI"
      },
      "outputs": [],
      "source": [
        "import numpy as np\n",
        "import pandas as pd\n",
        "import matplotlib.pyplot as plt\n",
        "import seaborn as sns\n",
        "from sklearn.cluster import KMeans\n",
        "from statsmodels.tsa.seasonal import seasonal_decompose\n",
        "from sklearn.model_selection import train_test_split\n",
        "from sklearn.linear_model import LinearRegression\n",
        "from sklearn.metrics import mean_absolute_error, mean_squared_error, r2_score\n",
        "from pandas.plotting import autocorrelation_plot\n",
        "from statsmodels.tsa.stattools import acf\n",
        "from sklearn.preprocessing import PolynomialFeatures,MinMaxScaler,StandardScaler\n",
        "from math import sqrt\n",
        "from sklearn.ensemble import RandomForestRegressor, RandomForestClassifier\n",
        "from sklearn.linear_model import LogisticRegression\n",
        "from sklearn.metrics import confusion_matrix, classification_report\n",
        "from sklearn.decomposition import PCA"
      ]
    },
    {
      "cell_type": "markdown",
      "source": [
        "## **IMPORTANDO O DATASET**"
      ],
      "metadata": {
        "id": "s2X7A_hh066e"
      }
    },
    {
      "cell_type": "code",
      "source": [
        "df = pd.read_csv('/content/household_power_consumption.txt', sep=';', decimal='.', encoding='utf-8', na_values='?', low_memory=False)"
      ],
      "metadata": {
        "id": "60B9FyY7056w",
        "outputId": "db284499-1f8f-4d70-be24-ec26d8737a39",
        "colab": {
          "base_uri": "https://localhost:8080/",
          "height": 339
        }
      },
      "execution_count": 6,
      "outputs": [
        {
          "output_type": "error",
          "ename": "FileNotFoundError",
          "evalue": "[Errno 2] No such file or directory: '/content/household_power_consumption.txt'",
          "traceback": [
            "\u001b[0;31m---------------------------------------------------------------------------\u001b[0m",
            "\u001b[0;31mFileNotFoundError\u001b[0m                         Traceback (most recent call last)",
            "\u001b[0;32m/tmp/ipython-input-3023470562.py\u001b[0m in \u001b[0;36m<cell line: 0>\u001b[0;34m()\u001b[0m\n\u001b[0;32m----> 1\u001b[0;31m \u001b[0mdf\u001b[0m \u001b[0;34m=\u001b[0m \u001b[0mpd\u001b[0m\u001b[0;34m.\u001b[0m\u001b[0mread_csv\u001b[0m\u001b[0;34m(\u001b[0m\u001b[0;34m'/content/household_power_consumption.txt'\u001b[0m\u001b[0;34m,\u001b[0m \u001b[0msep\u001b[0m\u001b[0;34m=\u001b[0m\u001b[0;34m';'\u001b[0m\u001b[0;34m,\u001b[0m \u001b[0mdecimal\u001b[0m\u001b[0;34m=\u001b[0m\u001b[0;34m'.'\u001b[0m\u001b[0;34m,\u001b[0m \u001b[0mencoding\u001b[0m\u001b[0;34m=\u001b[0m\u001b[0;34m'utf-8'\u001b[0m\u001b[0;34m,\u001b[0m \u001b[0mna_values\u001b[0m\u001b[0;34m=\u001b[0m\u001b[0;34m'?'\u001b[0m\u001b[0;34m,\u001b[0m \u001b[0mlow_memory\u001b[0m\u001b[0;34m=\u001b[0m\u001b[0;32mFalse\u001b[0m\u001b[0;34m)\u001b[0m\u001b[0;34m\u001b[0m\u001b[0;34m\u001b[0m\u001b[0m\n\u001b[0m",
            "\u001b[0;32m/usr/local/lib/python3.12/dist-packages/pandas/io/parsers/readers.py\u001b[0m in \u001b[0;36mread_csv\u001b[0;34m(filepath_or_buffer, sep, delimiter, header, names, index_col, usecols, dtype, engine, converters, true_values, false_values, skipinitialspace, skiprows, skipfooter, nrows, na_values, keep_default_na, na_filter, verbose, skip_blank_lines, parse_dates, infer_datetime_format, keep_date_col, date_parser, date_format, dayfirst, cache_dates, iterator, chunksize, compression, thousands, decimal, lineterminator, quotechar, quoting, doublequote, escapechar, comment, encoding, encoding_errors, dialect, on_bad_lines, delim_whitespace, low_memory, memory_map, float_precision, storage_options, dtype_backend)\u001b[0m\n\u001b[1;32m   1024\u001b[0m     \u001b[0mkwds\u001b[0m\u001b[0;34m.\u001b[0m\u001b[0mupdate\u001b[0m\u001b[0;34m(\u001b[0m\u001b[0mkwds_defaults\u001b[0m\u001b[0;34m)\u001b[0m\u001b[0;34m\u001b[0m\u001b[0;34m\u001b[0m\u001b[0m\n\u001b[1;32m   1025\u001b[0m \u001b[0;34m\u001b[0m\u001b[0m\n\u001b[0;32m-> 1026\u001b[0;31m     \u001b[0;32mreturn\u001b[0m \u001b[0m_read\u001b[0m\u001b[0;34m(\u001b[0m\u001b[0mfilepath_or_buffer\u001b[0m\u001b[0;34m,\u001b[0m \u001b[0mkwds\u001b[0m\u001b[0;34m)\u001b[0m\u001b[0;34m\u001b[0m\u001b[0;34m\u001b[0m\u001b[0m\n\u001b[0m\u001b[1;32m   1027\u001b[0m \u001b[0;34m\u001b[0m\u001b[0m\n\u001b[1;32m   1028\u001b[0m \u001b[0;34m\u001b[0m\u001b[0m\n",
            "\u001b[0;32m/usr/local/lib/python3.12/dist-packages/pandas/io/parsers/readers.py\u001b[0m in \u001b[0;36m_read\u001b[0;34m(filepath_or_buffer, kwds)\u001b[0m\n\u001b[1;32m    618\u001b[0m \u001b[0;34m\u001b[0m\u001b[0m\n\u001b[1;32m    619\u001b[0m     \u001b[0;31m# Create the parser.\u001b[0m\u001b[0;34m\u001b[0m\u001b[0;34m\u001b[0m\u001b[0m\n\u001b[0;32m--> 620\u001b[0;31m     \u001b[0mparser\u001b[0m \u001b[0;34m=\u001b[0m \u001b[0mTextFileReader\u001b[0m\u001b[0;34m(\u001b[0m\u001b[0mfilepath_or_buffer\u001b[0m\u001b[0;34m,\u001b[0m \u001b[0;34m**\u001b[0m\u001b[0mkwds\u001b[0m\u001b[0;34m)\u001b[0m\u001b[0;34m\u001b[0m\u001b[0;34m\u001b[0m\u001b[0m\n\u001b[0m\u001b[1;32m    621\u001b[0m \u001b[0;34m\u001b[0m\u001b[0m\n\u001b[1;32m    622\u001b[0m     \u001b[0;32mif\u001b[0m \u001b[0mchunksize\u001b[0m \u001b[0;32mor\u001b[0m \u001b[0miterator\u001b[0m\u001b[0;34m:\u001b[0m\u001b[0;34m\u001b[0m\u001b[0;34m\u001b[0m\u001b[0m\n",
            "\u001b[0;32m/usr/local/lib/python3.12/dist-packages/pandas/io/parsers/readers.py\u001b[0m in \u001b[0;36m__init__\u001b[0;34m(self, f, engine, **kwds)\u001b[0m\n\u001b[1;32m   1618\u001b[0m \u001b[0;34m\u001b[0m\u001b[0m\n\u001b[1;32m   1619\u001b[0m         \u001b[0mself\u001b[0m\u001b[0;34m.\u001b[0m\u001b[0mhandles\u001b[0m\u001b[0;34m:\u001b[0m \u001b[0mIOHandles\u001b[0m \u001b[0;34m|\u001b[0m \u001b[0;32mNone\u001b[0m \u001b[0;34m=\u001b[0m \u001b[0;32mNone\u001b[0m\u001b[0;34m\u001b[0m\u001b[0;34m\u001b[0m\u001b[0m\n\u001b[0;32m-> 1620\u001b[0;31m         \u001b[0mself\u001b[0m\u001b[0;34m.\u001b[0m\u001b[0m_engine\u001b[0m \u001b[0;34m=\u001b[0m \u001b[0mself\u001b[0m\u001b[0;34m.\u001b[0m\u001b[0m_make_engine\u001b[0m\u001b[0;34m(\u001b[0m\u001b[0mf\u001b[0m\u001b[0;34m,\u001b[0m \u001b[0mself\u001b[0m\u001b[0;34m.\u001b[0m\u001b[0mengine\u001b[0m\u001b[0;34m)\u001b[0m\u001b[0;34m\u001b[0m\u001b[0;34m\u001b[0m\u001b[0m\n\u001b[0m\u001b[1;32m   1621\u001b[0m \u001b[0;34m\u001b[0m\u001b[0m\n\u001b[1;32m   1622\u001b[0m     \u001b[0;32mdef\u001b[0m \u001b[0mclose\u001b[0m\u001b[0;34m(\u001b[0m\u001b[0mself\u001b[0m\u001b[0;34m)\u001b[0m \u001b[0;34m->\u001b[0m \u001b[0;32mNone\u001b[0m\u001b[0;34m:\u001b[0m\u001b[0;34m\u001b[0m\u001b[0;34m\u001b[0m\u001b[0m\n",
            "\u001b[0;32m/usr/local/lib/python3.12/dist-packages/pandas/io/parsers/readers.py\u001b[0m in \u001b[0;36m_make_engine\u001b[0;34m(self, f, engine)\u001b[0m\n\u001b[1;32m   1878\u001b[0m                 \u001b[0;32mif\u001b[0m \u001b[0;34m\"b\"\u001b[0m \u001b[0;32mnot\u001b[0m \u001b[0;32min\u001b[0m \u001b[0mmode\u001b[0m\u001b[0;34m:\u001b[0m\u001b[0;34m\u001b[0m\u001b[0;34m\u001b[0m\u001b[0m\n\u001b[1;32m   1879\u001b[0m                     \u001b[0mmode\u001b[0m \u001b[0;34m+=\u001b[0m \u001b[0;34m\"b\"\u001b[0m\u001b[0;34m\u001b[0m\u001b[0;34m\u001b[0m\u001b[0m\n\u001b[0;32m-> 1880\u001b[0;31m             self.handles = get_handle(\n\u001b[0m\u001b[1;32m   1881\u001b[0m                 \u001b[0mf\u001b[0m\u001b[0;34m,\u001b[0m\u001b[0;34m\u001b[0m\u001b[0;34m\u001b[0m\u001b[0m\n\u001b[1;32m   1882\u001b[0m                 \u001b[0mmode\u001b[0m\u001b[0;34m,\u001b[0m\u001b[0;34m\u001b[0m\u001b[0;34m\u001b[0m\u001b[0m\n",
            "\u001b[0;32m/usr/local/lib/python3.12/dist-packages/pandas/io/common.py\u001b[0m in \u001b[0;36mget_handle\u001b[0;34m(path_or_buf, mode, encoding, compression, memory_map, is_text, errors, storage_options)\u001b[0m\n\u001b[1;32m    880\u001b[0m         \u001b[0;32melse\u001b[0m\u001b[0;34m:\u001b[0m\u001b[0;34m\u001b[0m\u001b[0;34m\u001b[0m\u001b[0m\n\u001b[1;32m    881\u001b[0m             \u001b[0;31m# Binary mode\u001b[0m\u001b[0;34m\u001b[0m\u001b[0;34m\u001b[0m\u001b[0m\n\u001b[0;32m--> 882\u001b[0;31m             \u001b[0mhandle\u001b[0m \u001b[0;34m=\u001b[0m \u001b[0mopen\u001b[0m\u001b[0;34m(\u001b[0m\u001b[0mhandle\u001b[0m\u001b[0;34m,\u001b[0m \u001b[0mioargs\u001b[0m\u001b[0;34m.\u001b[0m\u001b[0mmode\u001b[0m\u001b[0;34m)\u001b[0m\u001b[0;34m\u001b[0m\u001b[0;34m\u001b[0m\u001b[0m\n\u001b[0m\u001b[1;32m    883\u001b[0m         \u001b[0mhandles\u001b[0m\u001b[0;34m.\u001b[0m\u001b[0mappend\u001b[0m\u001b[0;34m(\u001b[0m\u001b[0mhandle\u001b[0m\u001b[0;34m)\u001b[0m\u001b[0;34m\u001b[0m\u001b[0;34m\u001b[0m\u001b[0m\n\u001b[1;32m    884\u001b[0m \u001b[0;34m\u001b[0m\u001b[0m\n",
            "\u001b[0;31mFileNotFoundError\u001b[0m: [Errno 2] No such file or directory: '/content/household_power_consumption.txt'"
          ]
        }
      ]
    },
    {
      "cell_type": "markdown",
      "source": [
        "## **PARTE 1 – Exercícios iniciais com Individual Household Electric Power Consumption**"
      ],
      "metadata": {
        "id": "-Lj8GWf62Y9N"
      }
    },
    {
      "cell_type": "markdown",
      "source": [
        "### **1. Carregue o dataset e exiba as 10 primeiras linhas.**"
      ],
      "metadata": {
        "id": "ldotndJw2lqf"
      }
    },
    {
      "cell_type": "code",
      "source": [
        "df.head(10)"
      ],
      "metadata": {
        "id": "KvyN7Qec2h_F"
      },
      "execution_count": null,
      "outputs": []
    },
    {
      "cell_type": "markdown",
      "source": [
        "### **2. Explique a diferença entre as variáveis Global_active_power e Global_reactive_power.**"
      ],
      "metadata": {
        "id": "cKD17AI12tz5"
      }
    },
    {
      "cell_type": "markdown",
      "source": [
        "**Global_active_power** é a energia realmente consumida pelos aparelhos, aquela que realiza trabalho útil, como acender uma lâmpada ou aquecer um forno. A unidade de medida é o quilowatt (kW).\n",
        "\n",
        "**Global_reactive_power** é a energia que não gera trabalho direto, mas é indispensável para o funcionamento de certos equipamentos, como motores e transformadores, pois garante a criação dos campos magnéticos necessários. Essa potência é medida em quilovolt-amperes reativos (kVAr)."
      ],
      "metadata": {
        "id": "s6umbV-226Ib"
      }
    },
    {
      "cell_type": "markdown",
      "source": [
        "### **3. Verifique se existem valores ausentes no dataset. Quantifique-os.**"
      ],
      "metadata": {
        "id": "PuruMDAY33I0"
      }
    },
    {
      "cell_type": "code",
      "source": [
        "# Conta o número de valores ausentes por coluna\n",
        "missing_values = df.isnull().sum()\n",
        "\n",
        "# Filtra e exibe as colunas com valores ausentes\n",
        "missing_values[missing_values > 0]\n",
        "\n",
        "# Calcula o total de valores ausentes no DataFrame\n",
        "total_missing = df.isnull().sum().sum()\n",
        "print(f'Total de valores ausentes: {total_missing}')"
      ],
      "metadata": {
        "id": "VxWLvLVs4D6x"
      },
      "execution_count": null,
      "outputs": []
    },
    {
      "cell_type": "markdown",
      "source": [
        "### **4. Converta a coluna Date para o tipo datetime e crie uma nova coluna com o dia da semana correspondente.**"
      ],
      "metadata": {
        "id": "jAK7fU-g5zTD"
      }
    },
    {
      "cell_type": "code",
      "source": [
        "# Conversão da coluna 'Date' para DateTime\n",
        "df['Date'] = pd.to_datetime(df['Date'], format='%d/%m/%Y', errors='coerce')\n",
        "\n",
        "# Criando uma nova coluna com o nome do dia da semana\n",
        "df['Weekday'] = df['Date'].dt.day_name()\n",
        "df[['Date', 'Weekday']].head()"
      ],
      "metadata": {
        "id": "eggRRQ7w54NN"
      },
      "execution_count": null,
      "outputs": []
    },
    {
      "cell_type": "markdown",
      "source": [
        "### **5. Filtre os registros apenas do ano de 2007 e calcule a média de consumo diário de Global_active_power.**"
      ],
      "metadata": {
        "id": "KM6nLt6t6vmo"
      }
    },
    {
      "cell_type": "code",
      "source": [
        "# Conversão da coluna para tipo numérico\n",
        "df['Global_active_power'] = pd.to_numeric(df['Global_active_power'], errors='coerce')\n",
        "\n",
        "# Filtragem dos registros do ano de 2007\n",
        "df_2007 = df[df['Date'].dt.year == 2007].copy()\n",
        "\n",
        "# Cálculo da média diária de consumo\n",
        "daily_avg = df_2007.groupby('Date')['Global_active_power'].mean()\n",
        "daily_avg.head()"
      ],
      "metadata": {
        "id": "iOmO4q3c63Ow"
      },
      "execution_count": null,
      "outputs": []
    },
    {
      "cell_type": "markdown",
      "source": [
        "### **6. Gere um gráfico de linha mostrando a variação de Global_active_power em um único dia à sua escolha.**"
      ],
      "metadata": {
        "id": "ZRmb50zQ7cOO"
      }
    },
    {
      "cell_type": "code",
      "source": [
        "# Define o dia escolhido\n",
        "dia_escolhido = pd.Timestamp('2007-02-01')\n",
        "\n",
        "# Filtra os dados para o dia específico\n",
        "df_dia = df[df['Date'] == dia_escolhido].copy()\n",
        "\n",
        "# Cria a coluna 'DateTime' combinando 'Date' e 'Time'\n",
        "df_dia['DateTime'] = pd.to_datetime(df_dia['Date'].astype(str) + ' ' + df_dia['Time'], errors='coerce')"
      ],
      "metadata": {
        "id": "pN4TokLXTOEc"
      },
      "execution_count": null,
      "outputs": []
    },
    {
      "cell_type": "markdown",
      "source": [
        "#### **Gráfico**"
      ],
      "metadata": {
        "id": "b1r29qsbTuIu"
      }
    },
    {
      "cell_type": "code",
      "source": [
        "# Gráfico de linha\n",
        "plt.figure(figsize=(10, 5))\n",
        "plt.plot(df_dia['DateTime'], df_dia['Global_active_power'], color='purple', linewidth=2)\n",
        "\n",
        "plt.title('Variação de Global Active Power — 1º de Fevereiro de 2007', fontsize= 14, color='black')\n",
        "plt.xlabel('Hora do dia', fontsize=12, color='black')\n",
        "plt.ylabel('Consumo (kW)', fontsize=12, color='black')\n",
        "plt.grid(True, linestyle='--', color='black', alpha=0.4)\n",
        "plt.tight_layout()\n",
        "plt.show()"
      ],
      "metadata": {
        "id": "bw1OreV-7lYG"
      },
      "execution_count": null,
      "outputs": []
    },
    {
      "cell_type": "markdown",
      "source": [
        "### **7. Crie um histograma da variável Voltage. O que pode ser observado sobre sua distribuição?**"
      ],
      "metadata": {
        "id": "C_466cSv7eiQ"
      }
    },
    {
      "cell_type": "code",
      "source": [
        "# Conversão segura da coluna 'Voltage' para tipo numérico\n",
        "df['Voltage'] = pd.to_numeric(df['Voltage'], errors='coerce')"
      ],
      "metadata": {
        "id": "7bv00t-TUfEW"
      },
      "execution_count": null,
      "outputs": []
    },
    {
      "cell_type": "markdown",
      "source": [
        "#### **Gráfico**"
      ],
      "metadata": {
        "id": "eQrde8K5Ut0l"
      }
    },
    {
      "cell_type": "code",
      "source": [
        "# Histograma da distribuição de voltagem\n",
        "plt.figure(figsize=(10, 5))\n",
        "plt.hist(df['Voltage'].dropna(), bins=50, color='mediumslateblue', edgecolor='black')\n",
        "plt.title('Distribuição da Tensão Elétrica (Voltage)', fontsize=14)\n",
        "plt.xlabel('Voltagem (volts)', fontsize=12)\n",
        "plt.ylabel('Frequência', fontsize=12)\n",
        "plt.grid(True, linestyle='--', color='black', alpha=0.4)\n",
        "plt.tight_layout()\n",
        "plt.show()"
      ],
      "metadata": {
        "id": "5GNL4JcB8UH7"
      },
      "execution_count": null,
      "outputs": []
    },
    {
      "cell_type": "markdown",
      "source": [
        "**O que pode ser observado sobre sua distribuição?**\n",
        "\n",
        "A voltagem costuma ficar concentrada entre 230V e 250V, com maior frequência em torno de 240V, que é o padrão esperado em redes residenciais europeias.\n",
        "\n",
        "A distribuição tem formato próximo de uma curva normal, mas não é totalmente simétrica, há uma cauda mais alongada para valores abaixo de 240V, o que indica que quedas de tensão acontecem com mais frequência do que valores muito altos acima de 245V."
      ],
      "metadata": {
        "id": "5GVsodQZ8cPW"
      }
    },
    {
      "cell_type": "markdown",
      "source": [
        "### **8. Calcule o consumo médio por mês em todo o período disponível no dataset.**"
      ],
      "metadata": {
        "id": "-xAe7aIW7fGO"
      }
    },
    {
      "cell_type": "code",
      "source": [
        "# Converte 'Time' para timedelta (duração em horas/minutos)\n",
        "df['Time'] = pd.to_timedelta(df['Time'], errors='coerce')"
      ],
      "metadata": {
        "id": "W3sbVCLQBCIP"
      },
      "execution_count": null,
      "outputs": []
    },
    {
      "cell_type": "code",
      "source": [
        "# Converte 'Global_active_power' para valores numéricos\n",
        "df['Global_active_power'] = pd.to_numeric(df['Global_active_power'], errors='coerce')"
      ],
      "metadata": {
        "id": "91FKPto8VNh5"
      },
      "execution_count": null,
      "outputs": []
    },
    {
      "cell_type": "code",
      "source": [
        "# Cria a coluna 'DateTime' combinando 'Date' e 'Time'\n",
        "df['DateTime'] = df['Date'] + df['Time']"
      ],
      "metadata": {
        "id": "d_xUAw6nVOhO"
      },
      "execution_count": null,
      "outputs": []
    },
    {
      "cell_type": "code",
      "source": [
        "# Calcula o consumo de energia em kWh (assumindo que os dados são por minuto)\n",
        "df['Consumo_kWh'] = df['Global_active_power'] / 60"
      ],
      "metadata": {
        "id": "OvXd8ZsFVQ8_"
      },
      "execution_count": null,
      "outputs": []
    },
    {
      "cell_type": "code",
      "source": [
        "# Agrupa por mês e calcula a média do consumo\n",
        "consumo_mensal = (\n",
        "df.groupby(df['DateTime'].dt.to_period('M'))['Consumo_kWh']\n",
        "    .mean()\n",
        "    .round(3))"
      ],
      "metadata": {
        "id": "L0_KHGdJVSJx"
      },
      "execution_count": null,
      "outputs": []
    },
    {
      "cell_type": "markdown",
      "source": [
        "#### **Consumo mensal**"
      ],
      "metadata": {
        "id": "Lrt8LJWhVdaV"
      }
    },
    {
      "cell_type": "code",
      "source": [
        "print(consumo_mensal)"
      ],
      "metadata": {
        "id": "aMjTI-ETVg3v"
      },
      "execution_count": null,
      "outputs": []
    },
    {
      "cell_type": "markdown",
      "source": [
        "### **9. Identifique o dia com maior consumo de energia ativa global (Global_active_power).**"
      ],
      "metadata": {
        "id": "sNLZxrEC7fZJ"
      }
    },
    {
      "cell_type": "code",
      "source": [
        "# # Calcula o consumo de energia em kWh (assumindo que os dados são por minuto)\n",
        "df['Consumo_kWh'] = df['Global_active_power'] / 60"
      ],
      "metadata": {
        "id": "Vh7LIoA3FAGa"
      },
      "execution_count": null,
      "outputs": []
    },
    {
      "cell_type": "code",
      "source": [
        "# Agrupa os dados por data e soma o consumo diário\n",
        "consumo_diario = df.groupby(df['DateTime'].dt.date)['Consumo_kWh'].sum()"
      ],
      "metadata": {
        "id": "2VjRtV-RVyxu"
      },
      "execution_count": null,
      "outputs": []
    },
    {
      "cell_type": "code",
      "source": [
        "# Identifica o dia com o maior consumo de energia\n",
        "dia_maior_consumo = consumo_diario.idxmax()"
      ],
      "metadata": {
        "id": "v_o-lDK8V06c"
      },
      "execution_count": null,
      "outputs": []
    },
    {
      "cell_type": "code",
      "source": [
        "# Valor do maior consumo diário\n",
        "maior_consumo = consumo_diario.max()"
      ],
      "metadata": {
        "id": "t0pI2o7VV2Ug"
      },
      "execution_count": null,
      "outputs": []
    },
    {
      "cell_type": "code",
      "source": [
        "# Resultado\n",
        "print(f\"O dia com maior consumo de energia ativa global foi {dia_maior_consumo} com {maior_consumo:.3f} kWh.\")"
      ],
      "metadata": {
        "id": "1fGrUqikV3kc"
      },
      "execution_count": null,
      "outputs": []
    },
    {
      "cell_type": "markdown",
      "source": [
        "### **10. Compare o consumo médio de energia ativa global em dias de semana versus finais de semana.**"
      ],
      "metadata": {
        "id": "EAebwx4-7fpn"
      }
    },
    {
      "cell_type": "code",
      "source": [
        "# Cria a coluna 'Weekday' que representa o dia da semana (0 = segunda, 6 = domingo)\n",
        "df['Weekday'] = df['DateTime'].dt.weekday"
      ],
      "metadata": {
        "id": "e2WxNVbrWDo6"
      },
      "execution_count": null,
      "outputs": []
    },
    {
      "cell_type": "code",
      "source": [
        "# Cria a coluna 'DayType' categorizando como 'Weekend' ou 'Weekday'\n",
        "df['DayType'] = df['Weekday'].apply(lambda x: 'Weekend' if x >= 5 else 'Weekday')"
      ],
      "metadata": {
        "id": "Fm8nNHq_WDmY"
      },
      "execution_count": null,
      "outputs": []
    },
    {
      "cell_type": "code",
      "source": [
        "# Calcula a média de 'Global_active_power' por tipo de dia (Dia de semana ou Final de semana)\n",
        "average_consumption = df.groupby('DayType')['Global_active_power'].mean()"
      ],
      "metadata": {
        "id": "umftdr9hWDkB"
      },
      "execution_count": null,
      "outputs": []
    },
    {
      "cell_type": "code",
      "source": [
        "# Consumo médio por tipo de dia\n",
        "print(\" Comparação do Consumo Médio de Energia Ativa Global:\")\n",
        "print(f\" Dias de semana (Segunda a Sexta): {average_consumption['Weekday']:.3f} kW\")\n",
        "print(f\" Finais de semana (Sábado e Domingo): {average_consumption['Weekend']:.3f} kW\")"
      ],
      "metadata": {
        "id": "kPJJQ6DKWDdR"
      },
      "execution_count": null,
      "outputs": []
    },
    {
      "cell_type": "markdown",
      "source": [
        "### **11. Calcule a correlação entre as variáveis Global_active_power, Global_reactive_power,Voltage e Global_intensity.**"
      ],
      "metadata": {
        "id": "UTT7RXRx7gO0"
      }
    },
    {
      "cell_type": "code",
      "source": [
        "# Selecionando as colunas\n",
        "cols = ['Global_active_power', 'Global_reactive_power', 'Voltage', 'Global_intensity']"
      ],
      "metadata": {
        "id": "6IQiN19eWTTk"
      },
      "execution_count": null,
      "outputs": []
    },
    {
      "cell_type": "code",
      "source": [
        "# Calculando a matriz de correlação entre as variáveis selecionadas\n",
        "correlation_matrix = df[cols].corr()"
      ],
      "metadata": {
        "id": "XwKTlTbVWTRg"
      },
      "execution_count": null,
      "outputs": []
    },
    {
      "cell_type": "code",
      "source": [
        "# Resultado\n",
        "print(\"Matriz de Correlação entre as variáveis:\")\n",
        "print(correlation_matrix)"
      ],
      "metadata": {
        "id": "jV5dhhUgWTO-"
      },
      "execution_count": null,
      "outputs": []
    },
    {
      "cell_type": "markdown",
      "source": [
        "### **12. Crie uma nova variável chamada Total_Sub_metering que some Sub_metering_1,Sub_metering_2 e Sub_metering_3.**"
      ],
      "metadata": {
        "id": "95L3q4E57grU"
      }
    },
    {
      "cell_type": "code",
      "source": [
        "# Criando a nova variável 'Total_Sub_metering' somando as colunas 'Sub_metering_1', 'Sub_metering_2' e 'Sub_metering_3'\n",
        "df['Total_Sub_metering'] = df['Sub_metering_1'] + df['Sub_metering_2'] + df['Sub_metering_3']"
      ],
      "metadata": {
        "id": "LzBtxg4nJZ8X"
      },
      "execution_count": null,
      "outputs": []
    },
    {
      "cell_type": "code",
      "source": [
        "# Resultado\n",
        "print(df[['Sub_metering_1', 'Sub_metering_2', 'Sub_metering_3', 'Total_Sub_metering']].head())"
      ],
      "metadata": {
        "id": "F5rJRtHJWojj"
      },
      "execution_count": null,
      "outputs": []
    },
    {
      "cell_type": "markdown",
      "source": [
        "### **13. Verifique se há algum mês em que Total_Sub_metering ultrapassa a média de Global_active_power.**"
      ],
      "metadata": {
        "id": "9dJ4LNLxJN_b"
      }
    },
    {
      "cell_type": "code",
      "source": [
        "# Calcular a média global de Global_active_power\n",
        "media_global_active_power = df['Global_active_power'].mean()"
      ],
      "metadata": {
        "id": "mnXIKdZhWwUz"
      },
      "execution_count": null,
      "outputs": []
    },
    {
      "cell_type": "code",
      "source": [
        "# Agrupar por mês e calcular a soma de Total_Sub_metering e a média de Global_active_power\n",
        "df['Month'] = df['DateTime'].dt.to_period('M')"
      ],
      "metadata": {
        "id": "HecgBg1-WwSw"
      },
      "execution_count": null,
      "outputs": []
    },
    {
      "cell_type": "code",
      "source": [
        "# Calcular soma de Total_Sub_metering por mês e média de Global_active_power por mês\n",
        "total_sub_metering_por_mes = df.groupby('Month')['Total_Sub_metering'].sum()\n",
        "media_global_por_mes = df.groupby('Month')['Global_active_power'].mean()"
      ],
      "metadata": {
        "id": "sqeEQU4sWwQN"
      },
      "execution_count": null,
      "outputs": []
    },
    {
      "cell_type": "code",
      "source": [
        "# Comparar se o Total_Sub_metering ultrapassa a média de Global_active_power em algum mês\n",
        "meses_ultrapassando = total_sub_metering_por_mes[total_sub_metering_por_mes > media_global_por_mes]"
      ],
      "metadata": {
        "id": "ja66KuLfWwN-"
      },
      "execution_count": null,
      "outputs": []
    },
    {
      "cell_type": "markdown",
      "source": [
        "#### **Meses que ultrapassam**"
      ],
      "metadata": {
        "id": "6Ek6I6vXW6vS"
      }
    },
    {
      "cell_type": "code",
      "source": [
        "print(\"Meses em que Total_Sub_metering ultrapassa a média de Global_active_power:\")\n",
        "print(meses_ultrapassando)"
      ],
      "metadata": {
        "id": "92MddQGlKFtY"
      },
      "execution_count": null,
      "outputs": []
    },
    {
      "cell_type": "markdown",
      "source": [
        "### **14. Faça um gráfico de série temporal do Voltage para o ano de 2008.**"
      ],
      "metadata": {
        "id": "cRJVwojdJOXr"
      }
    },
    {
      "cell_type": "code",
      "source": [
        "# Filtrar dados para o ano de 2008\n",
        "df_2008 = df[df['DateTime'].dt.year == 2008]\n",
        "\n",
        "# Gráfico de série temporal de Voltage\n",
        "plt.figure(figsize=(10, 5))\n",
        "plt.plot(df_2008['DateTime'], df_2008['Voltage'], color='purple', label='Voltage')\n",
        "plt.title('Série Temporal do Voltage - Ano de 2008', fontsize=14)\n",
        "plt.xlabel('Data', fontsize=10)\n",
        "plt.ylabel('Voltage (Volts)', fontsize=12)\n",
        "plt.grid(True)\n",
        "plt.legend()\n",
        "plt.tight_layout()\n",
        "plt.show()"
      ],
      "metadata": {
        "id": "ExdCbqUnFgZI"
      },
      "execution_count": null,
      "outputs": []
    },
    {
      "cell_type": "markdown",
      "source": [
        "### **15. Compare o consumo entre os meses de verão e inverno (no hemisfério norte).**"
      ],
      "metadata": {
        "id": "fbx_FOfzJOvH"
      }
    },
    {
      "cell_type": "code",
      "source": [
        "# Filtrar os dados para o ano e para os meses de verão e inverno\n",
        "df['Month'] = df['DateTime'].dt.month\n",
        "\n",
        "# Definir grupos sazonais\n",
        "verao = df[df['Month'].isin([6, 7, 8])]\n",
        "inverno = df[df['Month'].isin([12, 1, 2])]"
      ],
      "metadata": {
        "id": "Qgvilm7mXRE7"
      },
      "execution_count": null,
      "outputs": []
    },
    {
      "cell_type": "code",
      "source": [
        "# Calcular médias\n",
        "media_verao = verao['Global_active_power'].mean()\n",
        "media_inverno = inverno['Global_active_power'].mean()"
      ],
      "metadata": {
        "id": "cY9wEjHXGzsI"
      },
      "execution_count": null,
      "outputs": []
    },
    {
      "cell_type": "code",
      "source": [
        "# Resultado\n",
        "print(f\"Consumo médio de energia no verão: {media_verao:.3f} kW\")\n",
        "print(f\"Consumo médio de energia no inverno: {media_inverno:.3f} kW\")"
      ],
      "metadata": {
        "id": "SYZFKD9LXUZy"
      },
      "execution_count": null,
      "outputs": []
    },
    {
      "cell_type": "markdown",
      "source": [
        "### **16. Aplique uma amostragem aleatória de 1% dos dados e verifique se a distribuição de Global_active_power é semelhante à da base completa.**"
      ],
      "metadata": {
        "id": "2CHw7DQ2JPQd"
      }
    },
    {
      "cell_type": "markdown",
      "source": [
        "#### **Gráfico**"
      ],
      "metadata": {
        "id": "fTvh6iSCY3GU"
      }
    },
    {
      "cell_type": "code",
      "source": [
        "# Amostragem aleatória de 1%\n",
        "amostra_1_percent = df.sample(frac=0.01, random_state=42)\n",
        "\n",
        "# Histograma\n",
        "plt.figure(figsize=(10, 5))\n",
        "plt.hist(df['Global_active_power'], bins=100, alpha=0.5, label='Base Completa', color='green', density=True)\n",
        "plt.hist(amostra_1_percent['Global_active_power'], bins=100, alpha=0.5, label='Amostra 1%', color='purple', density=True)\n",
        "plt.title('Comparação da Distribuição de Global_active_power', fontsize=14)\n",
        "plt.xlabel('Consumo (kW)', fontsize=12)\n",
        "plt.ylabel('Densidade', fontsize=12)\n",
        "plt.legend()\n",
        "plt.grid(True)\n",
        "plt.tight_layout()\n",
        "plt.show()"
      ],
      "metadata": {
        "id": "SX2HRZQJHxJb"
      },
      "execution_count": null,
      "outputs": []
    },
    {
      "cell_type": "markdown",
      "source": [
        "### **17. Utilize uma técnica de normalização (Min-Max Scaling) para padronizar as variáveis numéricas principais**"
      ],
      "metadata": {
        "id": "Q2Sdbaa_JPs0"
      }
    },
    {
      "cell_type": "code",
      "source": [
        "# Selecionando as colunas numéricas principais para normalizar\n",
        "variaveis_numericas = ['Global_active_power', 'Global_reactive_power', 'Voltage', 'Global_intensity']"
      ],
      "metadata": {
        "id": "mXJmsBzyXwzE"
      },
      "execution_count": null,
      "outputs": []
    },
    {
      "cell_type": "code",
      "source": [
        "# Inicializando o scaler\n",
        "scaler = MinMaxScaler()"
      ],
      "metadata": {
        "id": "eLwMhSz8XxXG"
      },
      "execution_count": null,
      "outputs": []
    },
    {
      "cell_type": "code",
      "source": [
        "# Aplicando o Min-Max Scaling nas variáveis selecionadas\n",
        "df[variaveis_numericas] = scaler.fit_transform(df[variaveis_numericas])"
      ],
      "metadata": {
        "id": "lB0cFTdGXzTZ"
      },
      "execution_count": null,
      "outputs": []
    },
    {
      "cell_type": "code",
      "source": [
        "# Resultados\n",
        "print(df[variaveis_numericas].head())"
      ],
      "metadata": {
        "id": "n_A6Yy5oK8Vp"
      },
      "execution_count": null,
      "outputs": []
    },
    {
      "cell_type": "markdown",
      "source": [
        "### **18. Aplique K-means para segmentar os dias em 3 grupos distintos de consumo elétrico. Interprete os resultados.**"
      ],
      "metadata": {
        "id": "LwG2rubcK1k_"
      }
    },
    {
      "cell_type": "code",
      "source": [
        "# Agrupar consumo diário\n",
        "df['DateOnly'] = df['DateTime'].dt.date\n",
        "daily_consumo = (\n",
        "    df.groupby('DateOnly')['Global_active_power']\n",
        "    .sum()\n",
        "    .reset_index())"
      ],
      "metadata": {
        "id": "gKeIsFVEX7Fv"
      },
      "execution_count": null,
      "outputs": []
    },
    {
      "cell_type": "code",
      "source": [
        "# Preparar os dados para o K-means\n",
        "X = daily_consumo[['Global_active_power']].values"
      ],
      "metadata": {
        "id": "ZGmQhv15X-bn"
      },
      "execution_count": null,
      "outputs": []
    },
    {
      "cell_type": "code",
      "source": [
        "# Aplicar K-means com 3 clusters\n",
        "kmeans = KMeans(n_clusters=3, random_state=42)\n",
        "daily_consumo['Cluster'] = kmeans.fit_predict(X)"
      ],
      "metadata": {
        "id": "EBe-5wrTYChl"
      },
      "execution_count": null,
      "outputs": []
    },
    {
      "cell_type": "code",
      "source": [
        "# Reordenar os clusters por consumo médio\n",
        "cluster_means = daily_consumo.groupby('Cluster')['Global_active_power'].mean()\n",
        "cluster_order = cluster_means.sort_values().index\n",
        "cluster_map = {old: new for new, old in enumerate(cluster_order)}\n",
        "daily_consumo['Cluster'] = daily_consumo['Cluster'].map(cluster_map)"
      ],
      "metadata": {
        "id": "hU0tQgxHYE9d"
      },
      "execution_count": null,
      "outputs": []
    },
    {
      "cell_type": "markdown",
      "source": [
        "#### **Gráfico**"
      ],
      "metadata": {
        "id": "D-ycKMQqYyEX"
      }
    },
    {
      "cell_type": "code",
      "source": [
        "plt.figure(figsize=(10, 5))\n",
        "colors = ['green', 'orange', 'red']\n",
        "\n",
        "for cluster_id, color in enumerate(colors):\n",
        "    subset = daily_consumo[daily_consumo['Cluster'] == cluster_id]\n",
        "    plt.scatter(\n",
        "        subset['DateOnly'],\n",
        "        subset['Global_active_power'],\n",
        "        label=f'Grupo {cluster_id + 1}',\n",
        "        color=color)\n",
        "\n",
        "plt.title('Segmentação de dias por consumo elétrico', fontsize=14)\n",
        "plt.xlabel('Data', fontsize=12)\n",
        "plt.ylabel('Consumo diário (kW)', fontsize=12)\n",
        "plt.legend()\n",
        "plt.xticks(rotation=45)\n",
        "plt.grid(True)\n",
        "plt.tight_layout()\n",
        "plt.show()"
      ],
      "metadata": {
        "id": "BwjOEailLjiN"
      },
      "execution_count": null,
      "outputs": []
    },
    {
      "cell_type": "markdown",
      "source": [
        "**Interpretação dos resultados**\n",
        "\n",
        "Grupo 1 verde : Dias com baixo consumo, possivelmente finais de semana ou feriados com menos atividade.\n",
        "\n",
        "Grupo 2 laranja: Dias com consumo intermediário, talvez dias úteis com rotina padrão.\n",
        "\n",
        "Grupo 3 vermelho: Dias com alto consumo, que podem indicar uso intensivo de aparelhos, eventos especiais ou picos sazonais."
      ],
      "metadata": {
        "id": "2vLU217-Nk4-"
      }
    },
    {
      "cell_type": "markdown",
      "source": [
        "### **19. Realize uma decomposição de série temporal (tendência, sazonalidade e resíduo) para  Global_active_power em um período de 6 meses.**"
      ],
      "metadata": {
        "id": "9hEm_mrkK2xJ"
      }
    },
    {
      "cell_type": "code",
      "source": [
        "# Convertendo para datetime e garantindo que os valores de 'DateTime' sejam válidos\n",
        "df['DateTime'] = pd.to_datetime(df['DateTime'], errors='coerce')"
      ],
      "metadata": {
        "id": "pQbRj1oEYMd-"
      },
      "execution_count": null,
      "outputs": []
    },
    {
      "cell_type": "code",
      "source": [
        "# Definir o período de 6 meses (ajuste conforme seu período real)\n",
        "data_inicio = '2007-01-01'\n",
        "data_fim = '2007-06-30'"
      ],
      "metadata": {
        "id": "phKEGy6fYNpN"
      },
      "execution_count": null,
      "outputs": []
    },
    {
      "cell_type": "code",
      "source": [
        "# Filtrar o DataFrame para o período de 6 meses\n",
        "df_6meses = df[(df['DateTime'] >= data_inicio) & (df['DateTime'] <= data_fim)]"
      ],
      "metadata": {
        "id": "YHviYlYGYPVd"
      },
      "execution_count": null,
      "outputs": []
    },
    {
      "cell_type": "code",
      "source": [
        "# Garantir que a coluna 'DateTime' seja o índice\n",
        "df_6meses.set_index('DateTime', inplace=True)"
      ],
      "metadata": {
        "id": "nzO1zGPVYQ10"
      },
      "execution_count": null,
      "outputs": []
    },
    {
      "cell_type": "code",
      "source": [
        "# Agregar o consumo diário de energia (Global_active_power)\n",
        "daily_consumo_6meses = df_6meses['Global_active_power'].resample('D').sum()"
      ],
      "metadata": {
        "id": "sQrGhu06YSlS"
      },
      "execution_count": null,
      "outputs": []
    },
    {
      "cell_type": "code",
      "source": [
        "# Substituir valores zero ou negativos com um pequeno valor positivo\n",
        "daily_consumo_6meses[daily_consumo_6meses <= 0] = daily_consumo_6meses[daily_consumo_6meses > 0].min()\n",
        "\n",
        "# Aplicar a decomposição de série temporal (tendência, sazonalidade, resíduos)\n",
        "result = seasonal_decompose(daily_consumo_6meses, model='multiplicative', period=30)  # Periodo aproximado para dados diários"
      ],
      "metadata": {
        "id": "rOWQgm0MYaLW"
      },
      "execution_count": null,
      "outputs": []
    },
    {
      "cell_type": "markdown",
      "source": [
        "#### **Gráfico**"
      ],
      "metadata": {
        "id": "7C_0NvaBYsJG"
      }
    },
    {
      "cell_type": "code",
      "source": [
        "# Gráfico dos componentes da decomposição\n",
        "plt.figure(figsize=(10, 5))\n",
        "plt.subplot(411)\n",
        "plt.plot(result.observed, label='Decomposição da Série Temporal - Global_active_power (6 meses)')\n",
        "plt.title('Decomposição da Série Temporal - Global_active_power (6 meses)')\n",
        "plt.subplot(412)\n",
        "plt.plot(result.trend, label='Tendência', color='orange')\n",
        "plt.title('Tendência')\n",
        "plt.subplot(413)\n",
        "plt.plot(result.seasonal, label='Sazonalidade', color='green')\n",
        "plt.title('Sazonalidade')\n",
        "plt.subplot(414)\n",
        "plt.plot(result.resid, label='Resíduo', color='red')\n",
        "plt.title('Resíduo')\n",
        "plt.tight_layout()\n",
        "plt.show()"
      ],
      "metadata": {
        "id": "BVYG2MOXN_81"
      },
      "execution_count": null,
      "outputs": []
    },
    {
      "cell_type": "markdown",
      "source": [
        "### **20. Treine um modelo de regressão linear simples para prever Global_active_power a partir de Global_intensity. Avalie o erro do modelo.**"
      ],
      "metadata": {
        "id": "y_j1xCJ6K3Rr"
      }
    },
    {
      "cell_type": "code",
      "source": [
        "# Seleção de variáveis\n",
        "# Garantir que não haja valores ausentes\n",
        "df_clean = df.dropna(subset=['Global_active_power', 'Global_intensity'])\n",
        "\n",
        "# Variáveis de interesse\n",
        "X = df_clean[['Global_intensity']]  # Variável preditora\n",
        "y = df_clean['Global_active_power']  # Variável alvo"
      ],
      "metadata": {
        "id": "ChDysofXZGsv"
      },
      "execution_count": null,
      "outputs": []
    },
    {
      "cell_type": "code",
      "source": [
        "# Divisão dos dados em treino e teste\n",
        "X_train, X_test, y_train, y_test = train_test_split(X, y, test_size=0.2, random_state=42)"
      ],
      "metadata": {
        "id": "12IXA1ODZOFP"
      },
      "execution_count": null,
      "outputs": []
    },
    {
      "cell_type": "code",
      "source": [
        "# Treinamento do modelo de regressão linear\n",
        "modelo = LinearRegression()\n",
        "modelo.fit(X_train, y_train)"
      ],
      "metadata": {
        "id": "lS7hOFtnZQEQ"
      },
      "execution_count": null,
      "outputs": []
    },
    {
      "cell_type": "code",
      "source": [
        "# Previsões no conjunto de teste\n",
        "y_pred = modelo.predict(X_test)"
      ],
      "metadata": {
        "id": "gEZ5eVsLZUMJ"
      },
      "execution_count": null,
      "outputs": []
    },
    {
      "cell_type": "code",
      "source": [
        "# Avaliação do modelo\n",
        "# Erro Médio Absoluto (MAE)\n",
        "mae = mean_absolute_error(y_test, y_pred)\n",
        "\n",
        "# Erro Quadrático Médio (MSE)\n",
        "mse = mean_squared_error(y_test, y_pred)\n",
        "\n",
        "# Raiz do Erro Quadrático Médio (RMSE)\n",
        "rmse = np.sqrt(mse)\n",
        "\n",
        "# Coeficiente de Determinação (R²)\n",
        "r2 = r2_score(y_test, y_pred)"
      ],
      "metadata": {
        "id": "5K-Av2KzZWwT"
      },
      "execution_count": null,
      "outputs": []
    },
    {
      "cell_type": "code",
      "source": [
        "# Resultados\n",
        "print(f\"Avaliação do Modelo de Regressão Linear Simples:\")\n",
        "print(f\"Erro Médio Absoluto (MAE): {mae:.3f}\")\n",
        "print(f\"Erro Quadrático Médio (MSE): {mse:.3f}\")\n",
        "print(f\"Raiz do Erro Quadrático Médio (RMSE): {rmse:.3f}\")\n",
        "print(f\"R² (Coeficiente de Determinação): {r2:.3f}\")"
      ],
      "metadata": {
        "id": "r56_-Ah2OiRy"
      },
      "execution_count": null,
      "outputs": []
    },
    {
      "cell_type": "markdown",
      "source": [
        "#### **Gráfico**"
      ],
      "metadata": {
        "id": "TCII2OEDZntr"
      }
    },
    {
      "cell_type": "code",
      "source": [
        "# Gráfico de dispersão dos dados reais vs. previsões\n",
        "sns.set(style=\"whitegrid\")\n",
        "plt.figure(figsize=(10, 5))\n",
        "plt.scatter(y_test, y_pred, color='purple', alpha=0.7, label='Previsões vs Real')\n",
        "plt.plot([y_test.min(), y_test.max()], [y_test.min(), y_test.max()], color='black', linestyle='--', label='Linha Ideal (y = y_pred)')\n",
        "plt.xlabel('Real (kW)')\n",
        "plt.ylabel('Previsto (kW)')\n",
        "plt.title('Modelo de Regressão Linear Simples: Real vs. Previsto')\n",
        "plt.legend(loc='upper left', fontsize=12)\n",
        "plt.grid(True, linestyle='--', color='black', alpha=0.3)\n",
        "plt.tight_layout()\n",
        "plt.show()"
      ],
      "metadata": {
        "id": "1AlMnSv-Zl_r"
      },
      "execution_count": null,
      "outputs": []
    },
    {
      "cell_type": "markdown",
      "source": [
        "### **21. Séries temporais por hora**"
      ],
      "metadata": {
        "id": "jv5ssjaSK3hB"
      }
    },
    {
      "cell_type": "markdown",
      "source": [
        "#### **Converta Date e Time em índice datetime.**"
      ],
      "metadata": {
        "id": "M_8Y8p0TPrSx"
      }
    },
    {
      "cell_type": "code",
      "source": [
        "# Converter 'Date' para datetime e 'Time' para timedelta\n",
        "df['Date'] = pd.to_datetime(df['Date'], errors='coerce')\n",
        "df['Time'] = pd.to_timedelta(df['Time'], errors='coerce')\n",
        "\n",
        "# Combinar as colunas 'Date' e 'Time' em uma nova coluna 'DateTime'\n",
        "df['DateTime'] = df['Date'] + df['Time']\n",
        "\n",
        "# Definir 'DateTime' como índice do DataFrame\n",
        "df.set_index('DateTime', inplace=True)"
      ],
      "metadata": {
        "id": "9aISzDt1mJAN"
      },
      "execution_count": null,
      "outputs": []
    },
    {
      "cell_type": "code",
      "source": [
        "df.head()"
      ],
      "metadata": {
        "id": "Ku3WZKvXm7DD"
      },
      "execution_count": null,
      "outputs": []
    },
    {
      "cell_type": "markdown",
      "source": [
        "#### **Reamostre os dados em intervalos de 1 hora, calculando a média de Global_active_power.**"
      ],
      "metadata": {
        "id": "80mdWyt6bMzV"
      }
    },
    {
      "cell_type": "code",
      "source": [
        "# Reamostrar para intervalos de 1 hora e calcular a média de 'Global_active_power'\n",
        "df_hourly = df['Global_active_power'].resample('h').mean()\n",
        "print(df_hourly.head())"
      ],
      "metadata": {
        "id": "F4xEhitffUz8"
      },
      "execution_count": null,
      "outputs": []
    },
    {
      "cell_type": "markdown",
      "source": [
        "#### **Identifique os horários de maior consumo médio ao longo do dia.**"
      ],
      "metadata": {
        "id": "oaLysUkOnUuI"
      }
    },
    {
      "cell_type": "code",
      "source": [
        "# Agrupando por 'hour' e calculando a média de consumo para cada hora\n",
        "consumo_por_hora = df['Global_active_power'].resample('H').mean()"
      ],
      "metadata": {
        "id": "1skmenH8nZ7T"
      },
      "execution_count": null,
      "outputs": []
    },
    {
      "cell_type": "code",
      "source": [
        "# Agrupando por hora do dia e calcular a média de consumo por hora\n",
        "consumo_por_hora = consumo_por_hora.groupby(consumo_por_hora.index.hour).mean()"
      ],
      "metadata": {
        "id": "rTpXG0VUnx73"
      },
      "execution_count": null,
      "outputs": []
    },
    {
      "cell_type": "code",
      "source": [
        "# Identificar os horários de maior consumo\n",
        "top_horas = consumo_por_hora.sort_values(ascending=False).head()\n",
        "print(\"Horários com maior consumo médio:\")\n",
        "for hora, valor in top_horas.items():\n",
        "    print(f\" {hora:02d}:00 → {valor:.2f} kW\")"
      ],
      "metadata": {
        "id": "LAnYb7ffn0Bj"
      },
      "execution_count": null,
      "outputs": []
    },
    {
      "cell_type": "markdown",
      "source": [
        "#### **Gráfico**"
      ],
      "metadata": {
        "id": "N3ONJynTpOQU"
      }
    },
    {
      "cell_type": "code",
      "source": [
        "plt.figure(figsize=(10, 5))\n",
        "plt.plot(consumo_por_hora.index, consumo_por_hora.values, marker='o', color='green', linestyle='-')\n",
        "plt.title('Consumo Médio por Hora do Dia', fontsize=16)\n",
        "plt.xlabel('Hora do Dia', fontsize=14)\n",
        "plt.ylabel('Consumo Médio (kW)', fontsize=14)\n",
        "plt.grid(True, linestyle='--', color='gray', alpha=0.5)\n",
        "plt.xticks(range(0, 24), fontsize=12)\n",
        "plt.tight_layout()\n",
        "plt.show()"
      ],
      "metadata": {
        "id": "_VC6zL7DpREQ"
      },
      "execution_count": null,
      "outputs": []
    },
    {
      "cell_type": "markdown",
      "source": [
        "### **22. Autocorrelação do consumo**"
      ],
      "metadata": {
        "id": "uMZ1zqufqagI"
      }
    },
    {
      "cell_type": "markdown",
      "source": [
        "#### **Use a série temporal de Global_active_power.**"
      ],
      "metadata": {
        "id": "jt5ajVfIqoL1"
      }
    },
    {
      "cell_type": "code",
      "source": [
        "serie = df['Global_active_power'].dropna()\n",
        "\n",
        "# Calcula autocorrelação até 48 lags\n",
        "valores_acf = acf(serie, nlags=48, fft=True)\n",
        "print(valores_acf)"
      ],
      "metadata": {
        "id": "ch84_L-1tmkq"
      },
      "execution_count": null,
      "outputs": []
    },
    {
      "cell_type": "markdown",
      "source": [
        "#### **Calcule a autocorrelação em lags de 1h, 24h e 48h.**"
      ],
      "metadata": {
        "id": "c-nr286fqq6X"
      }
    },
    {
      "cell_type": "code",
      "source": [
        "# Calcular a autocorrelação para lags de 1h, 24h e 48h\n",
        "autocorr_1h = df['Global_active_power'].autocorr(lag=1)\n",
        "autocorr_24h = df['Global_active_power'].autocorr(lag=24)\n",
        "autocorr_48h = df['Global_active_power'].autocorr(lag=48)"
      ],
      "metadata": {
        "id": "SOxr1yNasUAs"
      },
      "execution_count": null,
      "outputs": []
    },
    {
      "cell_type": "code",
      "source": [
        "# Resultados\n",
        "print(f\"Autocorrelação em 1h: {autocorr_1h:.3f}\")\n",
        "print(f\"Autocorrelação em 24h: {autocorr_24h:.3f}\")\n",
        "print(f\"Autocorrelação em 48h: {autocorr_48h:.3f}\")"
      ],
      "metadata": {
        "id": "u5oIcCPhq0L6"
      },
      "execution_count": null,
      "outputs": []
    },
    {
      "cell_type": "markdown",
      "source": [
        "#### **Pergunta: existem padrões repetidos diariamente?**"
      ],
      "metadata": {
        "id": "ecgCYCJRqu-I"
      }
    },
    {
      "cell_type": "markdown",
      "source": [
        "Sim. A análise mostrou que o consumo de energia tem um padrão que se repete todo dia. A autocorrelação em 24 horas foi alta (0,665), indicando que o consumo em um horário tende a ser parecido com o do mesmo horário no dia anterior. Isso é típico em ambientes residenciais, onde há rotinas como café da manhã, banho, uso de eletrodomésticos etc."
      ],
      "metadata": {
        "id": "Gszr4zkBwOSH"
      }
    },
    {
      "cell_type": "markdown",
      "source": [
        "### **23. Redução de dimensionalidade com PCA**"
      ],
      "metadata": {
        "id": "oA2dn-GRq3uI"
      }
    },
    {
      "cell_type": "markdown",
      "source": [
        "#### **Selecione Global_active_power, Global_reactive_power, Voltage e Global_intensity.**"
      ],
      "metadata": {
        "id": "z2e7i5fhq7KW"
      }
    },
    {
      "cell_type": "code",
      "source": [
        "# Seleção das colunas\n",
        "cols = ['Global_active_power', 'Global_reactive_power', 'Voltage', 'Global_intensity']\n",
        "data = df[cols]\n",
        "\n",
        "# Remover linhas com valores ausentes\n",
        "data_cleaned = data.dropna()"
      ],
      "metadata": {
        "id": "4FI7KUB8rFMb"
      },
      "execution_count": null,
      "outputs": []
    },
    {
      "cell_type": "code",
      "source": [
        "# Normalizar os dados\n",
        "scaler = StandardScaler()\n",
        "data_scaled = scaler.fit_transform(data_cleaned)"
      ],
      "metadata": {
        "id": "qU_GxtipxNYp"
      },
      "execution_count": null,
      "outputs": []
    },
    {
      "cell_type": "markdown",
      "source": [
        "#### **Aplique PCA para reduzir para 2 componentes principais.**"
      ],
      "metadata": {
        "id": "FcV7SMI0q_R2"
      }
    },
    {
      "cell_type": "code",
      "source": [
        "# Aplicação do PCA\n",
        "pca = PCA(n_components=2)\n",
        "principal_components = pca.fit_transform(data_scaled)"
      ],
      "metadata": {
        "id": "sa1VVKUArFdV"
      },
      "execution_count": null,
      "outputs": []
    },
    {
      "cell_type": "code",
      "source": [
        "# Criar um DataFrame com os componentes principais\n",
        "pca_df = pd.DataFrame(data=principal_components, columns=['PC1', 'PC2'])\n",
        "pca_df.head()"
      ],
      "metadata": {
        "id": "mtzFfR_4xf-5"
      },
      "execution_count": null,
      "outputs": []
    },
    {
      "cell_type": "markdown",
      "source": [
        "#### **Analise a variância explicada por cada componente.**"
      ],
      "metadata": {
        "id": "HpWxx320rCw6"
      }
    },
    {
      "cell_type": "code",
      "source": [
        "# Visualizar a variância explicada\n",
        "print(f\"Explained variance ratio: {pca.explained_variance_ratio_}\")\n",
        "print(f\"Total variance explained: {sum(pca.explained_variance_ratio_):.2f}\")"
      ],
      "metadata": {
        "id": "yxNaussCxhKo"
      },
      "execution_count": null,
      "outputs": []
    },
    {
      "cell_type": "markdown",
      "source": [
        "##### **Gráfico**"
      ],
      "metadata": {
        "id": "QoF5bHv6xjNZ"
      }
    },
    {
      "cell_type": "code",
      "source": [
        "# Componentes principais\n",
        "plt.figure(figsize=(10, 5))\n",
        "plt.scatter(pca_df['PC1'], pca_df['PC2'], alpha=0.5, color='purple')\n",
        "plt.title('PCA: 2 Principais Componentes')\n",
        "plt.xlabel('Principal Component 1')\n",
        "plt.ylabel('Principal Component 2')\n",
        "plt.grid(True)\n",
        "plt.tight_layout()\n",
        "plt.show()"
      ],
      "metadata": {
        "id": "aAQbajexxl3_"
      },
      "execution_count": null,
      "outputs": []
    },
    {
      "cell_type": "markdown",
      "source": [
        "### **24. Visualização de clusters no espaço PCA**"
      ],
      "metadata": {
        "id": "v641FWLuy9eX"
      }
    },
    {
      "cell_type": "markdown",
      "source": [
        "#### **Combine os resultados do PCA com K-Means (3 clusters).**"
      ],
      "metadata": {
        "id": "3abXl6njzCe4"
      }
    },
    {
      "cell_type": "code",
      "source": [
        "# Selecionar as variáveis numéricas para o PCA\n",
        "X = df.select_dtypes(include='number').dropna()"
      ],
      "metadata": {
        "id": "dU1y0scvztqq"
      },
      "execution_count": null,
      "outputs": []
    },
    {
      "cell_type": "code",
      "source": [
        "# Exemplo: converter todas as colunas timedelta para horas\n",
        "for col in X.select_dtypes(include='timedelta64[ns]').columns:\n",
        "    X[col] = X[col].dt.total_seconds() / 3600\n",
        "\n",
        "# Selecionar apenas colunas numéricas\n",
        "X_num = X.select_dtypes(include=['number'])"
      ],
      "metadata": {
        "id": "PfaOHx2iz59B"
      },
      "execution_count": null,
      "outputs": []
    },
    {
      "cell_type": "code",
      "source": [
        "# Aplicar PCA para reduzir para 2 componentes principais\n",
        "pca = PCA(n_components=2)\n",
        "X_pca = pca.fit_transform(X)"
      ],
      "metadata": {
        "id": "2pl3WwBbztUI"
      },
      "execution_count": null,
      "outputs": []
    },
    {
      "cell_type": "code",
      "source": [
        "# Aplicar K-Means nos dados transformados pelo PCA\n",
        "kmeans = KMeans(n_clusters=3, random_state=42)\n",
        "clusters = kmeans.fit_predict(X_pca)"
      ],
      "metadata": {
        "id": "sIlbfz_80GxC"
      },
      "execution_count": null,
      "outputs": []
    },
    {
      "cell_type": "code",
      "source": [
        "# Adicionar resultados ao DataFrame\n",
        "df_pca = pd.DataFrame(X_pca, columns=['PC1', 'PC2'])\n",
        "df_pca['Cluster'] = clusters"
      ],
      "metadata": {
        "id": "3vK8_YUe0IwW"
      },
      "execution_count": null,
      "outputs": []
    },
    {
      "cell_type": "markdown",
      "source": [
        "##### **Gráfico**"
      ],
      "metadata": {
        "id": "W8hVzM6a0gDy"
      }
    },
    {
      "cell_type": "code",
      "source": [
        "# Visualizar os clusters no espaço das componentes principais\n",
        "plt.figure(figsize=(10, 5))\n",
        "colors = ['green', 'orange', 'red']\n",
        "for i, color in enumerate(colors):\n",
        "    subset = df_pca[df_pca['Cluster'] == i]\n",
        "    plt.scatter(subset['PC1'], subset['PC2'], c=color, label=f'Cluster {i+1}', alpha=0.6)"
      ],
      "metadata": {
        "id": "Le0JCYk80LUF"
      },
      "execution_count": null,
      "outputs": []
    },
    {
      "cell_type": "markdown",
      "source": [
        "#### **Plote os pontos resultantes e pinte cada grupo por cluster.**"
      ],
      "metadata": {
        "id": "UTNGOAl9zF75"
      }
    },
    {
      "cell_type": "code",
      "source": [
        "plt.figure(figsize=(10, 5))\n",
        "cores = ['green', 'orange', 'red']\n",
        "for i, cor in enumerate(cores):\n",
        "    plt.scatter(\n",
        "        X_pca[clusters == i, 0],  # PC1\n",
        "        X_pca[clusters == i, 1],  # PC2\n",
        "        c=cor,\n",
        "        label=f'Cluster {i+1}',\n",
        "        alpha=0.6\n",
        "    )\n",
        "# Marcar centróides no espaço PCA\n",
        "centroides = kmeans.cluster_centers_\n",
        "plt.scatter(\n",
        "    centroides[:, 0], centroides[:, 1],\n",
        "    c='black', marker='X', s=200, label='Centróides'\n",
        ")\n",
        "plt.title('Clusters no espaço PCA')\n",
        "plt.xlabel('Componente Principal 1')\n",
        "plt.ylabel('Componente Principal 2')\n",
        "plt.legend()\n",
        "plt.grid(True)\n",
        "plt.tight_layout()\n",
        "plt.show()"
      ],
      "metadata": {
        "id": "WbZQm0TB02yY"
      },
      "execution_count": null,
      "outputs": []
    },
    {
      "cell_type": "markdown",
      "source": [
        "#### **Pergunta: os grupos se separam de forma clara?**"
      ],
      "metadata": {
        "id": "ZwWTKb7NzJ43"
      }
    },
    {
      "cell_type": "markdown",
      "source": [
        "A análise dos resultados do PCA combinada com o K-Means (3 clusters) mostra que há uma separação parcial entre os grupos. Podemos ver que um dos grupos (verde) ficou bem separado dos outros, mas os laranja e vermelho acabam se misturando um pouco. Então a separação não é 100% clara, mas pudemos perceber que existem padrões diferentes entre eles."
      ],
      "metadata": {
        "id": "SHAl_8h81nBd"
      }
    },
    {
      "cell_type": "markdown",
      "source": [
        "### **25. Regressão polinomial vs linear**"
      ],
      "metadata": {
        "id": "EbPJNAaBzOZ0"
      }
    },
    {
      "cell_type": "markdown",
      "source": [
        "#### **Modele Global_active_power em função de Voltage.**"
      ],
      "metadata": {
        "id": "1iTytilnzRcJ"
      }
    },
    {
      "cell_type": "code",
      "source": [
        "# Selecionar as variáveis\n",
        "X = df[['Voltage']].dropna()\n",
        "y = df['Global_active_power'].dropna()"
      ],
      "metadata": {
        "id": "viJlSfR63MIy"
      },
      "execution_count": null,
      "outputs": []
    },
    {
      "cell_type": "code",
      "source": [
        "# Regressão Linear\n",
        "modelo_linear = LinearRegression()\n",
        "modelo_linear.fit(X_train, y_train)\n",
        "y_pred_linear = modelo_linear.predict(X_test)\n",
        "rmse_linear = mean_squared_error(y_test, y_pred_linear) ** 0.5"
      ],
      "metadata": {
        "id": "8efSP28Z3N9c"
      },
      "execution_count": null,
      "outputs": []
    },
    {
      "cell_type": "code",
      "source": [
        "# Regressão Polinomial (grau 2)\n",
        "poly = PolynomialFeatures(degree=2)\n",
        "X_poly = poly.fit_transform(X)\n",
        "poly_reg = LinearRegression()\n",
        "poly_reg.fit(X_poly, y)\n",
        "y_pred_poly = poly_reg.predict(X_poly)"
      ],
      "metadata": {
        "id": "MENhf92w3P0B"
      },
      "execution_count": null,
      "outputs": []
    },
    {
      "cell_type": "code",
      "source": [
        "# Desempenho\n",
        "print(f\"R² Linear: {r2_score(y, y_pred_lin):.4f}\")\n",
        "print(f\"R² Polinomial (grau 2): {r2_score(y, y_pred_poly):.4f}\")"
      ],
      "metadata": {
        "id": "ZfBzGVUn3b25"
      },
      "execution_count": null,
      "outputs": []
    },
    {
      "cell_type": "markdown",
      "source": [
        "##### **Gráfico**"
      ],
      "metadata": {
        "id": "4vv9-oN63lvx"
      }
    },
    {
      "cell_type": "code",
      "source": [
        "plt.figure(figsize=(10, 5))\n",
        "plt.scatter(X, y, color='gray', alpha=0.5, label='Dados reais')\n",
        "sort_idx = np.argsort(X.values.flatten())\n",
        "plt.plot(X.values.flatten()[sort_idx], y_pred_lin[sort_idx], color='blue', label='Linear')\n",
        "plt.plot(X.values.flatten()[sort_idx], y_pred_poly[sort_idx], color='red', label='Polinomial (grau 2)')\n",
        "plt.xlabel('Voltage')\n",
        "plt.ylabel('Global_active_power')\n",
        "plt.title('Regressão Linear vs Polinomial')\n",
        "plt.legend()\n",
        "plt.grid(True)\n",
        "plt.show()"
      ],
      "metadata": {
        "id": "ECrYTDwD3oot"
      },
      "execution_count": null,
      "outputs": []
    },
    {
      "cell_type": "markdown",
      "source": [
        "#### **Compare Regressão Linear Simples com Regressão Polinomial (grau 2).**"
      ],
      "metadata": {
        "id": "18McY1RszY9y"
      }
    },
    {
      "cell_type": "markdown",
      "source": [
        "Ao modelar Global_active_power em função de Voltage, a regressão linear simples ajusta uma reta, captando apenas relações lineares. Já a regressão polinomial de grau 2 ajusta uma curva, permitindo representar relações não lineares entre as variáveis. No teste, o modelo polinomial apresentou R² ligeiramente maior que o linear, mostrando que a relação não é perfeitamente reta e que a curva consegue explicar um pouco melhor a variação do consumo em função da tensão."
      ],
      "metadata": {
        "id": "pXEDGv0_3y3n"
      }
    },
    {
      "cell_type": "markdown",
      "source": [
        "#### **Analise RMSE e a curva ajustada.**"
      ],
      "metadata": {
        "id": "t0GNUdzKza82"
      }
    },
    {
      "cell_type": "markdown",
      "source": [
        "##### **Gráfico**"
      ],
      "metadata": {
        "id": "DP6BOk_B5aej"
      }
    },
    {
      "cell_type": "code",
      "source": [
        "# Calcular o RMSE (Root Mean Squared Error)\n",
        "rmse = sqrt(mean_squared_error(y_test, y_pred))\n",
        "print(f\"RMSE: {rmse:.3f}\")\n",
        "\n",
        "# Plotar a curva ajustada (valores reais vs. valores previstos)\n",
        "plt.figure(figsize=(10, 5))\n",
        "plt.plot(y_test.values, label='Valores Reais', color='blue', alpha=0.7)\n",
        "plt.plot(y_pred, label='Valores Previstos', color='red', linestyle='--', alpha=0.7)\n",
        "plt.title('Curva Ajustada: Valores Reais vs. Valores Previstos')\n",
        "plt.xlabel('Índice')\n",
        "plt.ylabel('Global Active Power (kW)')\n",
        "plt.legend(loc='best')\n",
        "plt.grid(True)\n",
        "plt.tight_layout()\n",
        "plt.show()"
      ],
      "metadata": {
        "id": "fEuVrBye36cb"
      },
      "execution_count": null,
      "outputs": []
    },
    {
      "cell_type": "markdown",
      "source": [
        "Um RMSE de 0.004 é um valor extremamente baixo, o que sugere que o modelo está fazendo previsões muito precisas. Esse valor indica que a diferença média entre os valores reais e os previstos é de apenas 0.004 kW."
      ],
      "metadata": {
        "id": "oI-hXni25dLs"
      }
    },
    {
      "cell_type": "markdown",
      "source": [
        "### **26. Carregamento e inspeção inicial**"
      ],
      "metadata": {
        "id": "KbzuEneN6XSr"
      }
    },
    {
      "cell_type": "markdown",
      "source": [
        "#### **IMPORTANDO O DATASET**"
      ],
      "metadata": {
        "id": "i33NEZOW6tr3"
      }
    },
    {
      "cell_type": "code",
      "source": [
        "df = pd.read_csv(\"/content/energydata_complete.csv\", parse_dates=['date'])"
      ],
      "metadata": {
        "id": "Vd7BLu7I6wN4"
      },
      "execution_count": 7,
      "outputs": []
    },
    {
      "cell_type": "code",
      "source": [
        "# Tipos de dados e contagem de valores não nulos\n",
        "df.info()\n",
        "# Estatísticas descritivas para colunas numéricas\n",
        "print(df.describe())"
      ],
      "metadata": {
        "id": "3aAoZjWa6cYm",
        "colab": {
          "base_uri": "https://localhost:8080/"
        },
        "outputId": "cf08b6b2-8929-416c-d52b-921f200c43b2"
      },
      "execution_count": 8,
      "outputs": [
        {
          "output_type": "stream",
          "name": "stdout",
          "text": [
            "<class 'pandas.core.frame.DataFrame'>\n",
            "RangeIndex: 19735 entries, 0 to 19734\n",
            "Data columns (total 29 columns):\n",
            " #   Column       Non-Null Count  Dtype         \n",
            "---  ------       --------------  -----         \n",
            " 0   date         19735 non-null  datetime64[ns]\n",
            " 1   Appliances   19735 non-null  int64         \n",
            " 2   lights       19735 non-null  int64         \n",
            " 3   T1           19735 non-null  float64       \n",
            " 4   RH_1         19735 non-null  float64       \n",
            " 5   T2           19735 non-null  float64       \n",
            " 6   RH_2         19735 non-null  float64       \n",
            " 7   T3           19735 non-null  float64       \n",
            " 8   RH_3         19735 non-null  float64       \n",
            " 9   T4           19735 non-null  float64       \n",
            " 10  RH_4         19735 non-null  float64       \n",
            " 11  T5           19735 non-null  float64       \n",
            " 12  RH_5         19735 non-null  float64       \n",
            " 13  T6           19735 non-null  float64       \n",
            " 14  RH_6         19735 non-null  float64       \n",
            " 15  T7           19735 non-null  float64       \n",
            " 16  RH_7         19735 non-null  float64       \n",
            " 17  T8           19735 non-null  float64       \n",
            " 18  RH_8         19735 non-null  float64       \n",
            " 19  T9           19735 non-null  float64       \n",
            " 20  RH_9         19735 non-null  float64       \n",
            " 21  T_out        19735 non-null  float64       \n",
            " 22  Press_mm_hg  19735 non-null  float64       \n",
            " 23  RH_out       19735 non-null  float64       \n",
            " 24  Windspeed    19735 non-null  float64       \n",
            " 25  Visibility   19735 non-null  float64       \n",
            " 26  Tdewpoint    19735 non-null  float64       \n",
            " 27  rv1          19735 non-null  float64       \n",
            " 28  rv2          19735 non-null  float64       \n",
            "dtypes: datetime64[ns](1), float64(26), int64(2)\n",
            "memory usage: 4.4 MB\n",
            "                      date    Appliances        lights            T1  \\\n",
            "count                19735  19735.000000  19735.000000  19735.000000   \n",
            "mean   2016-03-20 05:30:00     97.694958      3.801875     21.686571   \n",
            "min    2016-01-11 17:00:00     10.000000      0.000000     16.790000   \n",
            "25%    2016-02-14 23:15:00     50.000000      0.000000     20.760000   \n",
            "50%    2016-03-20 05:30:00     60.000000      0.000000     21.600000   \n",
            "75%    2016-04-23 11:45:00    100.000000      0.000000     22.600000   \n",
            "max    2016-05-27 18:00:00   1080.000000     70.000000     26.260000   \n",
            "std                    NaN    102.524891      7.935988      1.606066   \n",
            "\n",
            "               RH_1            T2          RH_2            T3          RH_3  \\\n",
            "count  19735.000000  19735.000000  19735.000000  19735.000000  19735.000000   \n",
            "mean      40.259739     20.341219     40.420420     22.267611     39.242500   \n",
            "min       27.023333     16.100000     20.463333     17.200000     28.766667   \n",
            "25%       37.333333     18.790000     37.900000     20.790000     36.900000   \n",
            "50%       39.656667     20.000000     40.500000     22.100000     38.530000   \n",
            "75%       43.066667     21.500000     43.260000     23.290000     41.760000   \n",
            "max       63.360000     29.856667     56.026667     29.236000     50.163333   \n",
            "std        3.979299      2.192974      4.069813      2.006111      3.254576   \n",
            "\n",
            "                 T4  ...            T9          RH_9         T_out  \\\n",
            "count  19735.000000  ...  19735.000000  19735.000000  19735.000000   \n",
            "mean      20.855335  ...     19.485828     41.552401      7.411665   \n",
            "min       15.100000  ...     14.890000     29.166667     -5.000000   \n",
            "25%       19.530000  ...     18.000000     38.500000      3.666667   \n",
            "50%       20.666667  ...     19.390000     40.900000      6.916667   \n",
            "75%       22.100000  ...     20.600000     44.338095     10.408333   \n",
            "max       26.200000  ...     24.500000     53.326667     26.100000   \n",
            "std        2.042884  ...      2.014712      4.151497      5.317409   \n",
            "\n",
            "        Press_mm_hg        RH_out     Windspeed    Visibility     Tdewpoint  \\\n",
            "count  19735.000000  19735.000000  19735.000000  19735.000000  19735.000000   \n",
            "mean     755.522602     79.750418      4.039752     38.330834      3.760707   \n",
            "min      729.300000     24.000000      0.000000      1.000000     -6.600000   \n",
            "25%      750.933333     70.333333      2.000000     29.000000      0.900000   \n",
            "50%      756.100000     83.666667      3.666667     40.000000      3.433333   \n",
            "75%      760.933333     91.666667      5.500000     40.000000      6.566667   \n",
            "max      772.300000    100.000000     14.000000     66.000000     15.500000   \n",
            "std        7.399441     14.901088      2.451221     11.794719      4.194648   \n",
            "\n",
            "                rv1           rv2  \n",
            "count  19735.000000  19735.000000  \n",
            "mean      24.988033     24.988033  \n",
            "min        0.005322      0.005322  \n",
            "25%       12.497889     12.497889  \n",
            "50%       24.897653     24.897653  \n",
            "75%       37.583769     37.583769  \n",
            "max       49.996530     49.996530  \n",
            "std       14.496634     14.496634  \n",
            "\n",
            "[8 rows x 29 columns]\n"
          ]
        }
      ]
    },
    {
      "cell_type": "code",
      "source": [
        "df = df.sort_values('date').set_index('date')"
      ],
      "metadata": {
        "id": "fugRRy497Xz3"
      },
      "execution_count": 9,
      "outputs": []
    },
    {
      "cell_type": "markdown",
      "source": [
        "Descritivas: Appliances média ≈ 97,7 Wh; mediana ≈ 60 Wh; máx. = 1080 Wh; alta variabilidade.\n"
      ],
      "metadata": {
        "id": "Y5df0WeY_vEx"
      }
    },
    {
      "cell_type": "markdown",
      "source": [
        "### **27. Distribuição do consumo (Appliances)**"
      ],
      "metadata": {
        "id": "uxjbLMAP7mFN"
      }
    },
    {
      "cell_type": "markdown",
      "source": [
        "##### **Gráfico**"
      ],
      "metadata": {
        "id": "u7cQME4i-PHi"
      }
    },
    {
      "cell_type": "code",
      "source": [
        "# Histograma\n",
        "df['Appliances'].hist(bins=40, color='green')\n",
        "plt.title('Histograma - Consumo de Appliances', fontsize=14)\n",
        "plt.xlabel('Consumo (Wh)', fontsize=14)\n",
        "plt.ylabel('Frequência', fontsize=14)\n",
        "plt.xticks(fontsize=12)\n",
        "plt.yticks(fontsize=12)\n",
        "plt.grid(True, linestyle='--', color ='gray', alpha=0.7)\n",
        "plt.tight_layout()"
      ],
      "metadata": {
        "id": "PpdBjxJF8j4j",
        "colab": {
          "base_uri": "https://localhost:8080/",
          "height": 487
        },
        "outputId": "13534a2c-58bb-478b-e961-caf10d3a8a8c"
      },
      "execution_count": 10,
      "outputs": [
        {
          "output_type": "display_data",
          "data": {
            "text/plain": [
              "<Figure size 640x480 with 1 Axes>"
            ],
            "image/png": "[encoded data removed]"
          },
          "metadata": {}
        }
      ]
    },
    {
      "cell_type": "code",
      "source": [
        "# Gráfico da série temporal diária (média por dia)\n",
        "df['Appliances'].resample('D').mean().plot(color='Blue')\n",
        "plt.title('Série Temporal Diária - Appliances (Média/dia)', fontsize=14)\n",
        "plt.xlabel('Data', fontsize=14)\n",
        "plt.ylabel('Consumo (Wh)', fontsize=14)\n",
        "plt.xticks(fontsize=12)\n",
        "plt.yticks(fontsize=12)\n",
        "plt.grid(True, linestyle='--', color ='gray', alpha=0.7)\n",
        "plt.tight_layout()"
      ],
      "metadata": {
        "id": "AGgvG8oI9zhe",
        "colab": {
          "base_uri": "https://localhost:8080/",
          "height": 487
        },
        "outputId": "774b10e4-e1d2-4c2c-ee25-b5a7acc21ae7"
      },
      "execution_count": 11,
      "outputs": [
        {
          "output_type": "display_data",
          "data": {
            "text/plain": [
              "<Figure size 640x480 with 1 Axes>"
            ],
            "image/png": "[encoded data removed]"
          },
          "metadata": {}
        }
      ]
    },
    {
      "cell_type": "markdown",
      "source": [
        "Histograma mostra forte concentração em valores baixos (até ~100 Wh) e cauda longa.\n",
        "Série diária (média/dia) oscila entre ~40 e ~180 Wh.\n",
        "RESPOSTA: consumo tende a se concentrar em valores baixos, com poucos picos altos."
      ],
      "metadata": {
        "id": "TwS-M1Y4_3Om"
      }
    },
    {
      "cell_type": "markdown",
      "source": [
        "### **28. Correlações com variáveis ambientais**"
      ],
      "metadata": {
        "id": "j2-WPm_c7n82"
      }
    },
    {
      "cell_type": "code",
      "source": [
        "ambient_cols = [\n",
        "    c for c in df.columns\n",
        "    if c.startswith('T') or c.startswith('RH') or c in ['T_out', 'RH_out', 'Press_mm_hg', 'Windspeed', 'Visibility', 'Tdewpoint']\n",
        "]\n",
        "ambient_cols = [c for c in ambient_cols if c in df.columns]  # garante que existam\n",
        "corrs = df[['Appliances'] + ambient_cols].corr(numeric_only=True)['Appliances'].sort_values(ascending=False)\n",
        "print(\"\\n==== Correlações de Appliances com variáveis ambientais ====\")\n",
        "print(corrs)"
      ],
      "metadata": {
        "id": "oa15mKPH-Ud_",
        "colab": {
          "base_uri": "https://localhost:8080/"
        },
        "outputId": "d2dc8e62-ab58-4bf0-9a97-2ffc8d41e3f4"
      },
      "execution_count": 12,
      "outputs": [
        {
          "output_type": "stream",
          "name": "stdout",
          "text": [
            "\n",
            "==== Correlações de Appliances com variáveis ambientais ====\n",
            "Appliances     1.000000\n",
            "T2             0.120073\n",
            "T6             0.117638\n",
            "T_out          0.099155\n",
            "Windspeed      0.087122\n",
            "RH_1           0.086031\n",
            "T3             0.085060\n",
            "T1             0.055447\n",
            "T4             0.040281\n",
            "T8             0.039572\n",
            "RH_3           0.036292\n",
            "T7             0.025801\n",
            "T5             0.019760\n",
            "RH_4           0.016965\n",
            "Tdewpoint      0.015353\n",
            "T9             0.010010\n",
            "RH_5           0.006955\n",
            "Visibility     0.000230\n",
            "Press_mm_hg   -0.034885\n",
            "RH_9          -0.051462\n",
            "RH_7          -0.055642\n",
            "RH_2          -0.060465\n",
            "RH_6          -0.083178\n",
            "RH_8          -0.094039\n",
            "RH_out        -0.152282\n",
            "Name: Appliances, dtype: float64\n"
          ]
        }
      ]
    },
    {
      "cell_type": "markdown",
      "source": [
        "Maiores positivas (aprox.): T2 ~ 0,120; T6 ~ 0,118; T_out ~ 0,099.\n",
        "Maiores negativas: RH_out ~ -0,152; RH_8 ~ -0,094.\n",
        "RESPOSTA: temperatura (leve positiva) e umidade externa (negativa) são as que mais se relacionam."
      ],
      "metadata": {
        "id": "wkEmS1FsAAzM"
      }
    },
    {
      "cell_type": "markdown",
      "source": [
        "### **29. Normalização (Min-Max)**"
      ],
      "metadata": {
        "id": "gdaYVDgE7rWf"
      }
    },
    {
      "cell_type": "code",
      "source": [
        "num_cols = df.select_dtypes(include=[np.number]).columns.tolist()\n",
        "scaler = MinMaxScaler()\n",
        "df_scaled = df.copy()\n",
        "df_scaled[num_cols] = scaler.fit_transform(df[num_cols])\n",
        "print(\"Normalização Min-Max aplicada às variáveis numéricas.\")"
      ],
      "metadata": {
        "id": "uACqYzyR-W-C",
        "colab": {
          "base_uri": "https://localhost:8080/"
        },
        "outputId": "f1620ce2-1055-4665-d6e2-8415fad81a7f"
      },
      "execution_count": 15,
      "outputs": [
        {
          "output_type": "stream",
          "name": "stdout",
          "text": [
            "Normalização Min-Max aplicada às variáveis numéricas.\n"
          ]
        }
      ]
    },
    {
      "cell_type": "markdown",
      "source": [
        "Aplicado Min-Max em todas as variáveis numéricas → faixa [0,1], adequado para PCA/K-Means.\n"
      ],
      "metadata": {
        "id": "yQb8XyVuAEuF"
      }
    },
    {
      "cell_type": "markdown",
      "source": [
        "### **30. PCA (2 componentes)**"
      ],
      "metadata": {
        "id": "T6nvVPOW7vT-"
      }
    },
    {
      "cell_type": "code",
      "source": [
        "pca_features = ['Appliances'] + ambient_cols\n",
        "pca_features = [c for c in pca_features if c in df_scaled.columns]\n",
        "X_pca = df_scaled[pca_features].dropna()\n",
        "pca = PCA(n_components=2, random_state=42)\n",
        "pcs = pca.fit_transform(X_pca)\n",
        "pca_df = pd.DataFrame(pcs, index=X_pca.index, columns=['PC1', 'PC2'])\n",
        "print(\"Variância explicada por componente:\", pca.explained_variance_ratio_)"
      ],
      "metadata": {
        "id": "fqGm0xWL-bHz",
        "colab": {
          "base_uri": "https://localhost:8080/"
        },
        "outputId": "fe28bdfc-b2cb-4406-e02b-ba8dc86df11a"
      },
      "execution_count": 18,
      "outputs": [
        {
          "output_type": "stream",
          "name": "stdout",
          "text": [
            "Variância explicada por componente: [0.44286643 0.25662228]\n"
          ]
        }
      ]
    },
    {
      "cell_type": "markdown",
      "source": [
        "##### **Gráfico**"
      ],
      "metadata": {
        "id": "SNpkfvgL-hfn"
      }
    },
    {
      "cell_type": "code",
      "source": [
        "plt.scatter(pca_df['PC1'], pca_df['PC2'], s=2)\n",
        "plt.title('PCA (2 componentes) - Appliances + variáveis ambientais')\n",
        "plt.xlabel('PC1')\n",
        "plt.ylabel('PC2')\n",
        "plt.tight_layout()\n",
        "plt.grid(True, linestyle='--', color ='gray', alpha=0.7)\n",
        "plt.tight_layout()"
      ],
      "metadata": {
        "id": "pJTJM7LL-co4",
        "colab": {
          "base_uri": "https://localhost:8080/",
          "height": 487
        },
        "outputId": "5c1aa832-ec6f-41da-e145-76a79b554803"
      },
      "execution_count": 19,
      "outputs": [
        {
          "output_type": "display_data",
          "data": {
            "text/plain": [
              "<Figure size 640x480 with 1 Axes>"
            ],
            "image/png": "[encoded data removed]"
          },
          "metadata": {}
        }
      ]
    },
    {
      "cell_type": "markdown",
      "source": [
        "Variância explicada: PC1 ≈ 44,3%, PC2 ≈ 25,6% (≈ 70% no total).\n",
        "Gráfico PC1 vs PC2 sem separações claras.\n",
        "RESPOSTA: aparecem padrões gerais, mas não há agrupamentos naturais bem definidos."
      ],
      "metadata": {
        "id": "1LFeFqZUAHmq"
      }
    },
    {
      "cell_type": "markdown",
      "source": [
        "### **31. Regressão Linear Múltipla (Appliances ~ variáveis ambientais)**"
      ],
      "metadata": {
        "id": "wmFdlgeo7xxB"
      }
    },
    {
      "cell_type": "code",
      "source": [
        "X = df.dropna()[ambient_cols]\n",
        "y = df.dropna()['Appliances']\n",
        "X_train, X_test, y_train, y_test = train_test_split(X, y, test_size=0.2, shuffle=False)  # respeita ordem temporal"
      ],
      "metadata": {
        "id": "45Pv7mt6_CNK"
      },
      "execution_count": 20,
      "outputs": []
    },
    {
      "cell_type": "code",
      "source": [
        "linreg = LinearRegression()\n",
        "linreg.fit(X_train, y_train)\n",
        "pred_lr = linreg.predict(X_test)"
      ],
      "metadata": {
        "id": "JYuGAffr_Djl"
      },
      "execution_count": 21,
      "outputs": []
    },
    {
      "cell_type": "code",
      "source": [
        "rmse_lr = np.sqrt(mean_squared_error(y_test, pred_lr))  # RMSE\n",
        "mae_lr = mean_absolute_error(y_test, pred_lr)\n",
        "r2_lr = r2_score(y_test, pred_lr)\n",
        "\n",
        "print(f\"Regressão Linear Múltipla - RMSE: {rmse_lr:.2f} | MAE: {mae_lr:.2f} | R²: {r2_lr:.3f}\")"
      ],
      "metadata": {
        "id": "GloGv2EE_FuX",
        "colab": {
          "base_uri": "https://localhost:8080/"
        },
        "outputId": "d44439e8-d9aa-4d81-ecce-41d41da43c26"
      },
      "execution_count": 22,
      "outputs": [
        {
          "output_type": "stream",
          "name": "stdout",
          "text": [
            "Regressão Linear Múltipla - RMSE: 86.51 | MAE: 51.16 | R²: 0.097\n"
          ]
        }
      ]
    },
    {
      "cell_type": "markdown",
      "source": [
        "RESPOSTA: desempenho fraco (explica ~10% da variância) — correlações fracas limitam a predição.\n"
      ],
      "metadata": {
        "id": "UJ9KL1XVANOR"
      }
    },
    {
      "cell_type": "markdown",
      "source": [
        "### **32. Random Forest Regressor**"
      ],
      "metadata": {
        "id": "KlEXItzN71gX"
      }
    },
    {
      "cell_type": "code",
      "source": [
        "rf = RandomForestRegressor(n_estimators=300, random_state=42, n_jobs=-1)\n",
        "rf.fit(X_train, y_train)\n",
        "pred_rf = rf.predict(X_test)\n",
        "\n",
        "rmse_rf = np.sqrt(mean_squared_error(y_test, pred_rf))\n",
        "mae_rf = mean_absolute_error(y_test, pred_rf)\n",
        "r2_rf = r2_score(y_test, pred_rf)\n",
        "print(f\"Random Forest Regressor - RMSE: {rmse_rf:.2f} | MAE: {mae_rf:.2f} | R²: {r2_rf:.3f}\")\n",
        "print(\"Nota: com split temporal e poucas features, RF pode generalizar pior que a Linear.\")"
      ],
      "metadata": {
        "id": "aKiRq9yhARz0",
        "colab": {
          "base_uri": "https://localhost:8080/",
          "height": 356
        },
        "outputId": "547159d0-8a09-4c60-e134-f0b372629802"
      },
      "execution_count": 24,
      "outputs": [
        {
          "output_type": "error",
          "ename": "KeyboardInterrupt",
          "evalue": "",
          "traceback": [
            "\u001b[0;31m---------------------------------------------------------------------------\u001b[0m",
            "\u001b[0;31mKeyboardInterrupt\u001b[0m                         Traceback (most recent call last)",
            "\u001b[0;32m/tmp/ipython-input-3941844582.py\u001b[0m in \u001b[0;36m<cell line: 0>\u001b[0;34m()\u001b[0m\n\u001b[1;32m      1\u001b[0m \u001b[0mrf\u001b[0m \u001b[0;34m=\u001b[0m \u001b[0mRandomForestRegressor\u001b[0m\u001b[0;34m(\u001b[0m\u001b[0mn_estimators\u001b[0m\u001b[0;34m=\u001b[0m\u001b[0;36m50\u001b[0m\u001b[0;34m,\u001b[0m \u001b[0mrandom_state\u001b[0m\u001b[0;34m=\u001b[0m\u001b[0;36m42\u001b[0m\u001b[0;34m,\u001b[0m \u001b[0mn_jobs\u001b[0m\u001b[0;34m=\u001b[0m\u001b[0;34m-\u001b[0m\u001b[0;36m1\u001b[0m\u001b[0;34m)\u001b[0m\u001b[0;34m\u001b[0m\u001b[0;34m\u001b[0m\u001b[0m\n\u001b[0;32m----> 2\u001b[0;31m \u001b[0mrf\u001b[0m\u001b[0;34m.\u001b[0m\u001b[0mfit\u001b[0m\u001b[0;34m(\u001b[0m\u001b[0mX_train\u001b[0m\u001b[0;34m,\u001b[0m \u001b[0my_train\u001b[0m\u001b[0;34m)\u001b[0m\u001b[0;34m\u001b[0m\u001b[0;34m\u001b[0m\u001b[0m\n\u001b[0m\u001b[1;32m      3\u001b[0m \u001b[0mpred_rf\u001b[0m \u001b[0;34m=\u001b[0m \u001b[0mrf\u001b[0m\u001b[0;34m.\u001b[0m\u001b[0mpredict\u001b[0m\u001b[0;34m(\u001b[0m\u001b[0mX_test\u001b[0m\u001b[0;34m)\u001b[0m\u001b[0;34m\u001b[0m\u001b[0;34m\u001b[0m\u001b[0m\n\u001b[1;32m      4\u001b[0m \u001b[0;34m\u001b[0m\u001b[0m\n\u001b[1;32m      5\u001b[0m \u001b[0mrmse_rf\u001b[0m \u001b[0;34m=\u001b[0m \u001b[0mnp\u001b[0m\u001b[0;34m.\u001b[0m\u001b[0msqrt\u001b[0m\u001b[0;34m(\u001b[0m\u001b[0mmean_squared_error\u001b[0m\u001b[0;34m(\u001b[0m\u001b[0my_test\u001b[0m\u001b[0;34m,\u001b[0m \u001b[0mpred_rf\u001b[0m\u001b[0;34m)\u001b[0m\u001b[0;34m)\u001b[0m\u001b[0;34m\u001b[0m\u001b[0;34m\u001b[0m\u001b[0m\n",
            "\u001b[0;32m/usr/local/lib/python3.12/dist-packages/sklearn/base.py\u001b[0m in \u001b[0;36mwrapper\u001b[0;34m(estimator, *args, **kwargs)\u001b[0m\n\u001b[1;32m   1387\u001b[0m                 )\n\u001b[1;32m   1388\u001b[0m             ):\n\u001b[0;32m-> 1389\u001b[0;31m                 \u001b[0;32mreturn\u001b[0m \u001b[0mfit_method\u001b[0m\u001b[0;34m(\u001b[0m\u001b[0mestimator\u001b[0m\u001b[0;34m,\u001b[0m \u001b[0;34m*\u001b[0m\u001b[0margs\u001b[0m\u001b[0;34m,\u001b[0m \u001b[0;34m**\u001b[0m\u001b[0mkwargs\u001b[0m\u001b[0;34m)\u001b[0m\u001b[0;34m\u001b[0m\u001b[0;34m\u001b[0m\u001b[0m\n\u001b[0m\u001b[1;32m   1390\u001b[0m \u001b[0;34m\u001b[0m\u001b[0m\n\u001b[1;32m   1391\u001b[0m         \u001b[0;32mreturn\u001b[0m \u001b[0mwrapper\u001b[0m\u001b[0;34m\u001b[0m\u001b[0;34m\u001b[0m\u001b[0m\n",
            "\u001b[0;32m/usr/local/lib/python3.12/dist-packages/sklearn/ensemble/_forest.py\u001b[0m in \u001b[0;36mfit\u001b[0;34m(self, X, y, sample_weight)\u001b[0m\n\u001b[1;32m    485\u001b[0m             \u001b[0;31m# parallel_backend contexts set at a higher level,\u001b[0m\u001b[0;34m\u001b[0m\u001b[0;34m\u001b[0m\u001b[0m\n\u001b[1;32m    486\u001b[0m             \u001b[0;31m# since correctness does not rely on using threads.\u001b[0m\u001b[0;34m\u001b[0m\u001b[0;34m\u001b[0m\u001b[0m\n\u001b[0;32m--> 487\u001b[0;31m             trees = Parallel(\n\u001b[0m\u001b[1;32m    488\u001b[0m                 \u001b[0mn_jobs\u001b[0m\u001b[0;34m=\u001b[0m\u001b[0mself\u001b[0m\u001b[0;34m.\u001b[0m\u001b[0mn_jobs\u001b[0m\u001b[0;34m,\u001b[0m\u001b[0;34m\u001b[0m\u001b[0;34m\u001b[0m\u001b[0m\n\u001b[1;32m    489\u001b[0m                 \u001b[0mverbose\u001b[0m\u001b[0;34m=\u001b[0m\u001b[0mself\u001b[0m\u001b[0;34m.\u001b[0m\u001b[0mverbose\u001b[0m\u001b[0;34m,\u001b[0m\u001b[0;34m\u001b[0m\u001b[0;34m\u001b[0m\u001b[0m\n",
            "\u001b[0;32m/usr/local/lib/python3.12/dist-packages/sklearn/utils/parallel.py\u001b[0m in \u001b[0;36m__call__\u001b[0;34m(self, iterable)\u001b[0m\n\u001b[1;32m     75\u001b[0m             \u001b[0;32mfor\u001b[0m \u001b[0mdelayed_func\u001b[0m\u001b[0;34m,\u001b[0m \u001b[0margs\u001b[0m\u001b[0;34m,\u001b[0m \u001b[0mkwargs\u001b[0m \u001b[0;32min\u001b[0m \u001b[0miterable\u001b[0m\u001b[0;34m\u001b[0m\u001b[0;34m\u001b[0m\u001b[0m\n\u001b[1;32m     76\u001b[0m         )\n\u001b[0;32m---> 77\u001b[0;31m         \u001b[0;32mreturn\u001b[0m \u001b[0msuper\u001b[0m\u001b[0;34m(\u001b[0m\u001b[0;34m)\u001b[0m\u001b[0;34m.\u001b[0m\u001b[0m__call__\u001b[0m\u001b[0;34m(\u001b[0m\u001b[0miterable_with_config\u001b[0m\u001b[0;34m)\u001b[0m\u001b[0;34m\u001b[0m\u001b[0;34m\u001b[0m\u001b[0m\n\u001b[0m\u001b[1;32m     78\u001b[0m \u001b[0;34m\u001b[0m\u001b[0m\n\u001b[1;32m     79\u001b[0m \u001b[0;34m\u001b[0m\u001b[0m\n",
            "\u001b[0;32m/usr/local/lib/python3.12/dist-packages/joblib/parallel.py\u001b[0m in \u001b[0;36m__call__\u001b[0;34m(self, iterable)\u001b[0m\n\u001b[1;32m   2070\u001b[0m         \u001b[0mnext\u001b[0m\u001b[0;34m(\u001b[0m\u001b[0moutput\u001b[0m\u001b[0;34m)\u001b[0m\u001b[0;34m\u001b[0m\u001b[0;34m\u001b[0m\u001b[0m\n\u001b[1;32m   2071\u001b[0m \u001b[0;34m\u001b[0m\u001b[0m\n\u001b[0;32m-> 2072\u001b[0;31m         \u001b[0;32mreturn\u001b[0m \u001b[0moutput\u001b[0m \u001b[0;32mif\u001b[0m \u001b[0mself\u001b[0m\u001b[0;34m.\u001b[0m\u001b[0mreturn_generator\u001b[0m \u001b[0;32melse\u001b[0m \u001b[0mlist\u001b[0m\u001b[0;34m(\u001b[0m\u001b[0moutput\u001b[0m\u001b[0;34m)\u001b[0m\u001b[0;34m\u001b[0m\u001b[0;34m\u001b[0m\u001b[0m\n\u001b[0m\u001b[1;32m   2073\u001b[0m \u001b[0;34m\u001b[0m\u001b[0m\n\u001b[1;32m   2074\u001b[0m     \u001b[0;32mdef\u001b[0m \u001b[0m__repr__\u001b[0m\u001b[0;34m(\u001b[0m\u001b[0mself\u001b[0m\u001b[0;34m)\u001b[0m\u001b[0;34m:\u001b[0m\u001b[0;34m\u001b[0m\u001b[0;34m\u001b[0m\u001b[0m\n",
            "\u001b[0;32m/usr/local/lib/python3.12/dist-packages/joblib/parallel.py\u001b[0m in \u001b[0;36m_get_outputs\u001b[0;34m(self, iterator, pre_dispatch)\u001b[0m\n\u001b[1;32m   1680\u001b[0m \u001b[0;34m\u001b[0m\u001b[0m\n\u001b[1;32m   1681\u001b[0m             \u001b[0;32mwith\u001b[0m \u001b[0mself\u001b[0m\u001b[0;34m.\u001b[0m\u001b[0m_backend\u001b[0m\u001b[0;34m.\u001b[0m\u001b[0mretrieval_context\u001b[0m\u001b[0;34m(\u001b[0m\u001b[0;34m)\u001b[0m\u001b[0;34m:\u001b[0m\u001b[0;34m\u001b[0m\u001b[0;34m\u001b[0m\u001b[0m\n\u001b[0;32m-> 1682\u001b[0;31m                 \u001b[0;32myield\u001b[0m \u001b[0;32mfrom\u001b[0m \u001b[0mself\u001b[0m\u001b[0;34m.\u001b[0m\u001b[0m_retrieve\u001b[0m\u001b[0;34m(\u001b[0m\u001b[0;34m)\u001b[0m\u001b[0;34m\u001b[0m\u001b[0;34m\u001b[0m\u001b[0m\n\u001b[0m\u001b[1;32m   1683\u001b[0m \u001b[0;34m\u001b[0m\u001b[0m\n\u001b[1;32m   1684\u001b[0m         \u001b[0;32mexcept\u001b[0m \u001b[0mGeneratorExit\u001b[0m\u001b[0;34m:\u001b[0m\u001b[0;34m\u001b[0m\u001b[0;34m\u001b[0m\u001b[0m\n",
            "\u001b[0;32m/usr/local/lib/python3.12/dist-packages/joblib/parallel.py\u001b[0m in \u001b[0;36m_retrieve\u001b[0;34m(self)\u001b[0m\n\u001b[1;32m   1798\u001b[0m                     \u001b[0mself\u001b[0m\u001b[0;34m.\u001b[0m\u001b[0m_jobs\u001b[0m\u001b[0;34m[\u001b[0m\u001b[0;36m0\u001b[0m\u001b[0;34m]\u001b[0m\u001b[0;34m.\u001b[0m\u001b[0mget_status\u001b[0m\u001b[0;34m(\u001b[0m\u001b[0mtimeout\u001b[0m\u001b[0;34m=\u001b[0m\u001b[0mself\u001b[0m\u001b[0;34m.\u001b[0m\u001b[0mtimeout\u001b[0m\u001b[0;34m)\u001b[0m \u001b[0;34m==\u001b[0m \u001b[0mTASK_PENDING\u001b[0m\u001b[0;34m\u001b[0m\u001b[0;34m\u001b[0m\u001b[0m\n\u001b[1;32m   1799\u001b[0m                 ):\n\u001b[0;32m-> 1800\u001b[0;31m                     \u001b[0mtime\u001b[0m\u001b[0;34m.\u001b[0m\u001b[0msleep\u001b[0m\u001b[0;34m(\u001b[0m\u001b[0;36m0.01\u001b[0m\u001b[0;34m)\u001b[0m\u001b[0;34m\u001b[0m\u001b[0;34m\u001b[0m\u001b[0m\n\u001b[0m\u001b[1;32m   1801\u001b[0m                     \u001b[0;32mcontinue\u001b[0m\u001b[0;34m\u001b[0m\u001b[0;34m\u001b[0m\u001b[0m\n\u001b[1;32m   1802\u001b[0m \u001b[0;34m\u001b[0m\u001b[0m\n",
            "\u001b[0;31mKeyboardInterrupt\u001b[0m: "
          ]
        }
      ]
    },
    {
      "cell_type": "markdown",
      "source": [
        "RESPOSTA: piorou em relação à linear, possivelmente por split temporal e poucas features (sem hora/dia/lags).\n"
      ],
      "metadata": {
        "id": "lOSI2NrGAjmF"
      }
    },
    {
      "cell_type": "markdown",
      "source": [
        "### **33. K-Means clustering (3 a 5 clusters) sobre perfis normalizados**"
      ],
      "metadata": {
        "id": "uTDht2r775L_"
      }
    },
    {
      "cell_type": "code",
      "source": [
        "k_features = ['Appliances', 'T_out', 'RH_out']\n",
        "k_features = [c for c in k_features if c in df_scaled.columns]\n",
        "Xk_full = df_scaled[k_features].dropna()\n",
        "\n",
        "\n",
        "n = min(20000, len(Xk_full))\n",
        "Xk = Xk_full.sample(n, random_state=42)\n",
        "\n",
        "for k in [3, 4, 5]:\n",
        "    km = KMeans(n_clusters=k, n_init='auto', random_state=42)\n",
        "    labels = km.fit_predict(Xk)\n",
        "    print(f\"\\nKMeans k={k} - tamanhos dos clusters:\", np.bincount(labels))\n",
        "\n",
        "km3 = KMeans(n_clusters=3, n_init='auto', random_state=42)\n",
        "lab3 = km3.fit_predict(Xk)\n",
        "centers3 = pd.DataFrame(km3.cluster_centers_, columns=k_features)\n",
        "print(\"\\nCentroides (k=3) nas escalas normalizadas [0-1]:\")\n",
        "print(centers3)"
      ],
      "metadata": {
        "id": "Nhhd5DQFAWOa",
        "colab": {
          "base_uri": "https://localhost:8080/"
        },
        "outputId": "fb43bd3f-2a63-46ad-f53b-2aa84b9d684f"
      },
      "execution_count": 25,
      "outputs": [
        {
          "output_type": "stream",
          "name": "stdout",
          "text": [
            "\n",
            "KMeans k=3 - tamanhos dos clusters: [3633 8380 7722]\n",
            "\n",
            "KMeans k=4 - tamanhos dos clusters: [2503 5067 4787 7378]\n",
            "\n",
            "KMeans k=5 - tamanhos dos clusters: [2218 4932 4440 7095 1050]\n",
            "\n",
            "Centroides (k=3) nas escalas normalizadas [0-1]:\n",
            "   Appliances     T_out    RH_out\n",
            "0    0.109156  0.609687  0.411678\n",
            "1    0.067062  0.262842  0.879557\n",
            "2    0.085418  0.448567  0.725482\n"
          ]
        }
      ]
    },
    {
      "cell_type": "markdown",
      "source": [
        "k=3 produziu 3 grupos de tamanhos semelhantes.\n",
        "Centroides (normalizados) indicam perfis:\n",
        "   • C1: menor Appliances e menor T_out (perfil \"frio/baixo consumo\");\n",
        "   • C2: médio Appliances e T_out intermediário;\n",
        "   • C3: maior Appliances e maior T_out (perfil \"quente/alto consumo\").\n",
        "RESPOSTA: clusters separam perfis de consumo associados às condições externas.\n"
      ],
      "metadata": {
        "id": "gauY_R2dAoPV"
      }
    },
    {
      "cell_type": "markdown",
      "source": [
        "### **34. Classificação binária (alto vs baixo consumo pela mediana)**"
      ],
      "metadata": {
        "id": "P-MXBe-7760v"
      }
    },
    {
      "cell_type": "code",
      "source": [
        "# Calcular a mediana de 'Appliances'\n",
        "median_appliances = df['Appliances'].median()\n",
        "\n",
        "# Criar o DataFrame para classificação\n",
        "df_clf = df.dropna(subset=ambient_cols + ['Appliances']).copy()\n",
        "df_clf['target_high'] = (df_clf['Appliances'] > median_appliances).astype(int)\n",
        "\n",
        "# Dividir as variáveis independentes (X) e dependentes (y)\n",
        "Xc = df_clf[ambient_cols]\n",
        "yc = df_clf['target_high']\n",
        "\n",
        "# Dividir em treino e teste\n",
        "Xc_train, Xc_test, yc_train, yc_test = train_test_split(Xc, yc, test_size=0.2, shuffle=False)\n",
        "\n",
        "# Regressão Logística\n",
        "logit = LogisticRegression(max_iter=200, solver='liblinear')\n",
        "logit.fit(Xc_train, yc_train)\n",
        "pred_log = logit.predict(Xc_test)\n",
        "\n",
        "# Random Forest Classifier\n",
        "rf_clf = RandomForestClassifier(n_estimators=300, random_state=42, n_jobs=-1)\n",
        "rf_clf.fit(Xc_train, yc_train)\n",
        "pred_rf_clf = rf_clf.predict(Xc_test)"
      ],
      "metadata": {
        "id": "D5-WpUAnAZpq"
      },
      "execution_count": 26,
      "outputs": []
    },
    {
      "cell_type": "markdown",
      "source": [
        "Treinados Logistic Regression e Random Forest Classifier usando variáveis ambientais.\n"
      ],
      "metadata": {
        "id": "jo8HO9U8A0Tg"
      }
    },
    {
      "cell_type": "markdown",
      "source": [
        "### **35. Avaliação de classificação**"
      ],
      "metadata": {
        "id": "MCuS4NcZ79n5"
      }
    },
    {
      "cell_type": "code",
      "source": [
        "def aval(nome, y_true, y_pred):\n",
        "    print(f\"\\n=== {nome} ===\")\n",
        "    print(\"Matriz de confusão:\\n\", confusion_matrix(y_true, y_pred))\n",
        "    print(classification_report(y_true, y_pred, target_names=['baixo', 'alto']))\n",
        "\n",
        "# Avaliar os modelos\n",
        "aval(\"Logistic Regression\", yc_test, pred_log)\n",
        "aval(\"Random Forest Classifier\", yc_test, pred_rf_clf)\n"
      ],
      "metadata": {
        "id": "yLHQhoG9Ab6Q",
        "colab": {
          "base_uri": "https://localhost:8080/"
        },
        "outputId": "aa6f779d-d6b7-4600-ca7b-77f0d13054e2"
      },
      "execution_count": 28,
      "outputs": [
        {
          "output_type": "stream",
          "name": "stdout",
          "text": [
            "\n",
            "=== Logistic Regression ===\n",
            "Matriz de confusão:\n",
            " [[1419  571]\n",
            " [ 476 1481]]\n",
            "              precision    recall  f1-score   support\n",
            "\n",
            "       baixo       0.75      0.71      0.73      1990\n",
            "        alto       0.72      0.76      0.74      1957\n",
            "\n",
            "    accuracy                           0.73      3947\n",
            "   macro avg       0.74      0.73      0.73      3947\n",
            "weighted avg       0.74      0.73      0.73      3947\n",
            "\n",
            "\n",
            "=== Random Forest Classifier ===\n",
            "Matriz de confusão:\n",
            " [[ 323 1667]\n",
            " [ 104 1853]]\n",
            "              precision    recall  f1-score   support\n",
            "\n",
            "       baixo       0.76      0.16      0.27      1990\n",
            "        alto       0.53      0.95      0.68      1957\n",
            "\n",
            "    accuracy                           0.55      3947\n",
            "   macro avg       0.64      0.55      0.47      3947\n",
            "weighted avg       0.64      0.55      0.47      3947\n",
            "\n"
          ]
        }
      ]
    },
    {
      "cell_type": "markdown",
      "source": [
        "Ambos têm dificuldade com “altos consumos”; Logistic acerta razoavelmente “baixos”.\n",
        "Random Forest Classifier melhora a acurácia geral, mas ainda erra a classe “alto” com frequência.\n",
        "RESPOSTA: os modelos erram mais em prever “alto consumo” (classe minoritária/mais difícil).\n",
        "\n",
        "Observação final:\n",
        "Melhorias futuras: adicionar features temporais (hora, dia da semana, senóides de 24h) e lags/médias móveis de Appliances; esses atributos costumam elevar bastante o R² e reduzir RMSE/MAE em séries temporais.\n"
      ],
      "metadata": {
        "id": "Hl1Ds1EpA3U8"
      }
    }
  ]
}